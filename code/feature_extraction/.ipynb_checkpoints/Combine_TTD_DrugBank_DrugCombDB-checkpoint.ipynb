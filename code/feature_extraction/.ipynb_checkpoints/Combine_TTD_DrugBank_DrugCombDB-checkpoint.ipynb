{
 "cells": [
  {
   "cell_type": "code",
   "execution_count": 1,
   "metadata": {},
   "outputs": [],
   "source": [
    "import os\n",
    "import pandas as pd\n",
    "import numpy as np\n",
    "import matplotlib.pyplot as plt\n"
   ]
  },
  {
   "cell_type": "code",
   "execution_count": null,
   "metadata": {},
   "outputs": [],
   "source": [
    "print(os.getcwd())\n",
    "os.chdir('../../')\n",
    "print(os.getcwd())"
   ]
  },
  {
   "cell_type": "code",
   "execution_count": 2,
   "metadata": {},
   "outputs": [],
   "source": [
    "dataset_dir = \"datasets/\"\n",
    "processed_drug_feature_path = dataset_dir + 'processed/drug/'\n",
    "output_dir = \"outputs/\"\n",
    "\n",
    "input_train_dir = \"inputs/train/\"\n",
    "input_drug_dir = \"inputs/drugs/\"\n",
    "\n",
    "single_drug_training_maccskeys_target_feature_file_path = input_train_dir + 'single_drugs_maccskeys_target_features.tsv'\n",
    "single_drug_training_maccskeys_feature_file_path = input_train_dir + 'single_drugs_maccskeys_features.tsv'\n",
    "training_label_synergy_score_file_path =  input_train_dir + 'synergy_labels.tsv'\n",
    "\n",
    "drugcombdb_drug_chem_smiles_maccskeys_info_file =  os.path.join(processed_drug_feature_path + \\\n",
    "                                                                'drug_chem_smiles_maccskeys_info_file.tsv')\n",
    "drugbank_drug_target_mapping_file = os.path.join(processed_drug_feature_path, 'drug_target_map_drugbank.tsv')\n",
    "TTD_drug_target_mapping_file=os.path.join(processed_drug_feature_path,'drug_target_map_TTD.tsv')\n",
    "\n",
    "TTD_drugbank_drug_target_map_file = os.path.join(input_drug_dir,'drug_target_map.tsv')\n",
    "\n",
    "drug_pair_score_file = dataset_dir+ 'drug-comb-db/' + 'drugcombs_scored.csv'"
   ]
  },
  {
   "cell_type": "markdown",
   "metadata": {},
   "source": [
    "# Combine protein target data from TTD, Drugbank and MACCSKEYS data for drugs in drugcombdb"
   ]
  },
  {
   "cell_type": "code",
   "execution_count": 3,
   "metadata": {},
   "outputs": [
    {
     "name": "stdout",
     "output_type": "stream",
     "text": [
      "drugbank:   pubchem_cid    drug_name uniprot_id\n",
      "0   101041682  Bivalirudin     P00734\n",
      "1   101041682  Bivalirudin     P05164\n",
      "2      657181   Leuprolide     P30968\n",
      "3      657181   Leuprolide     P08684\n",
      "4     5311128    Goserelin     P22888\n",
      "TTD:    pubchem_cid                                         drug_name uniprot_id\n",
      "0    23643731          8-O-(4-chlorobenzenesulfonyl)manzamine F     P49841\n",
      "1    44341439               2-Hexyloxy-5-imidazol-1-yl-pyridine     P10635\n",
      "2    44435223  Anthracen-10-yl(10H-phenothiazin-10-yl)methanone     P06276\n",
      "3       73255                                        VOACANGINE     P22303\n",
      "4         702                                           Ethanol     P14867\n"
     ]
    }
   ],
   "source": [
    "#combine drugbank and TTD drug-target information\n",
    "\n",
    "drugbank_drug_target_df = pd.read_csv(drugbank_drug_target_mapping_file, sep='\\t')\n",
    "drugbank_drug_target_df['pubchem_cid'] = drugbank_drug_target_df['pubchem_cid'].astype(str)\n",
    "\n",
    "TTD_drug_target_df = pd.read_csv(TTD_drug_target_mapping_file, sep='\\t')\n",
    "TTD_drug_target_df['pubchem_cid'] = TTD_drug_target_df['pubchem_cid'].astype(str)\n",
    "\n",
    "drug_target_df = pd.concat([drugbank_drug_target_df, TTD_drug_target_df], axis= 0)\n",
    "\n",
    "\n",
    "print('drugbank:', drugbank_drug_target_df.head())\n",
    "print('TTD: ', TTD_drug_target_df.head())\n",
    "\n",
    "os.makedirs(os.path.dirname(TTD_drugbank_drug_target_map_file), exist_ok=True)\n",
    "\n",
    "df = drug_target_df[['pubchem_cid','uniprot_id']].drop_duplicates()\n",
    "df.to_csv(TTD_drugbank_drug_target_map_file, sep='\\t')\n",
    "#note: 1. a pubchem id can be mapped to multiple drug_name\n",
    "#     2. a drug_name can be mapped to multiple pubchem_id\n",
    "#     So many to many relationship\n",
    "\n"
   ]
  },
  {
   "cell_type": "code",
   "execution_count": 4,
   "metadata": {},
   "outputs": [
    {
     "name": "stdout",
     "output_type": "stream",
     "text": [
      "  pubchem_cid  P00734  P05164  P30968  P08684  P22888  P30518  P37288  P47901  \\\n",
      "0   101041682       1       1       0       0       0       0       0       0   \n",
      "1      657181       0       0       1       1       0       0       0       0   \n",
      "2     5311128       0       0       1       0       1       0       0       0   \n",
      "3     5311065       0       0       0       0       0       1       1       1   \n",
      "4    25074887       0       0       1       0       1       0       0       0   \n",
      "\n",
      "   P23219  ...  Q9H3R0  P14384  P29120  O00270  Q8TDC3  Q8IWQ3  Q8TBC4  \\\n",
      "0       0  ...       0       0       0       0       0       0       0   \n",
      "1       0  ...       0       0       0       0       0       0       0   \n",
      "2       0  ...       0       0       0       0       0       0       0   \n",
      "3       1  ...       0       0       0       0       0       0       0   \n",
      "4       0  ...       0       0       0       0       0       0       0   \n",
      "\n",
      "   Q15843  P49770  Q14232  \n",
      "0       0       0       0  \n",
      "1       0       0       0  \n",
      "2       0       0       0  \n",
      "3       0       0       0  \n",
      "4       0       0       0  \n",
      "\n",
      "[5 rows x 3378 columns]\n",
      "(21297, 3378)\n",
      "['101041682' '657181' '5311128' ... '59693' '46891059' '21854226']\n"
     ]
    }
   ],
   "source": [
    "#create the feature matrix containing all the targets for a drug as a 0-1 vector.\n",
    "unique_proteins = drug_target_df['uniprot_id'].unique()\n",
    "unique_proteins_in_Index_form = pd.Index(pd.Series(unique_proteins))\n",
    "number_of_unique_proteins = len(unique_proteins)\n",
    "unique_pubchem_ids = drug_target_df['pubchem_cid'].unique()\n",
    "\n",
    "drug_targets ={ pubchem_id: np.zeros(number_of_unique_proteins, dtype=int) for pubchem_id in  unique_pubchem_ids}\n",
    "\n",
    "for index,row in drug_target_df.iterrows():\n",
    "    #find the index of the current target (i.e.present in the current row) in unique_proteins\n",
    "    prot_position = unique_proteins_in_Index_form.get_loc(row['uniprot_id'])\n",
    "    drug_targets[row['pubchem_cid']][prot_position] = 1\n",
    "    \n",
    "drug_target_df_feature_ready = pd.DataFrame.from_dict(drug_targets, orient='index', columns=unique_proteins)\n",
    "drug_target_df_feature_ready = drug_target_df_feature_ready.reset_index().rename(columns={'index':'pubchem_cid'})\n",
    "drug_target_df_feature_ready['pubchem_cid']=drug_target_df_feature_ready['pubchem_cid'].astype(str)\n",
    "print(drug_target_df_feature_ready.head())\n",
    "print(drug_target_df_feature_ready.shape)\n",
    "print(drug_target_df_feature_ready['pubchem_cid'].unique())\n",
    "  \n",
    "    "
   ]
  },
  {
   "cell_type": "code",
   "execution_count": 5,
   "metadata": {},
   "outputs": [
    {
     "name": "stdout",
     "output_type": "stream",
     "text": [
      "(4193, 168)\n",
      "  pubchem_cid  0  1  2  3  4  5  6  7  8  ... 157 158 159 160 161 162 163 164  \\\n",
      "0    73265337  0  0  0  0  0  0  0  0  0  ...   1   1   1   1   1   1   1   1   \n",
      "1       41744  0  0  0  0  0  0  0  0  0  ...   1   1   1   1   1   1   1   1   \n",
      "2       73442  0  0  0  0  0  0  0  0  0  ...   1   1   1   1   1   1   1   1   \n",
      "3     9929127  0  0  0  0  0  0  0  0  0  ...   1   1   1   1   1   1   1   1   \n",
      "4    10052040  0  0  0  0  0  0  0  0  0  ...   0   1   0   1   1   1   1   1   \n",
      "\n",
      "  165 166  \n",
      "0   1   0  \n",
      "1   1   0  \n",
      "2   1   1  \n",
      "3   1   0  \n",
      "4   1   0  \n",
      "\n",
      "[5 rows x 168 columns]\n",
      "['73265337' '41744' '73442' ... '4194514' '42623951' '73265369']\n"
     ]
    }
   ],
   "source": [
    "# convert MACCSKEYS to 166 columns\n",
    "\n",
    "drug_maccskeys_df = pd.read_csv(drugcombdb_drug_chem_smiles_maccskeys_info_file, sep = '\\t')\n",
    "drug_maccskeys_df = drug_maccskeys_df[['pubchem_cid','Drug_Name','MACCSKeys','MACCSKeys_bitstring']].\\\n",
    "                    rename(columns={'Drug_Name':'drug_name'})\n",
    "# print(drug_maccskeys_df.head())\n",
    "# print(drug_maccskeys_df.shape)\n",
    "# print(drug_maccskeys_df.nunique())\n",
    "# print(drug_maccskeys_df['pubchem_cid'].unique())\n",
    "\n",
    "\n",
    "drug_maccskeys_string_dict = {}\n",
    "for index, row in drug_maccskeys_df.iterrows():\n",
    "    drug_maccskeys_string_dict[row['pubchem_cid']] = list(row['MACCSKeys_bitstring'])\n",
    "drug_maccskeys_df_feature_ready = pd.DataFrame.from_dict(drug_maccskeys_string_dict, orient = 'index').\\\n",
    "                                reset_index().rename(columns={'index':'pubchem_cid'})\n",
    "drug_maccskeys_df_feature_ready['pubchem_cid'] = drug_maccskeys_df_feature_ready['pubchem_cid'].astype(str)\n",
    "print(drug_maccskeys_df_feature_ready.shape)\n",
    "print(drug_maccskeys_df_feature_ready.head())\n",
    "print(drug_maccskeys_df_feature_ready['pubchem_cid'].unique())\n",
    "\n",
    "os.makedirs(os.path.dirname(single_drug_training_maccskeys_feature_file_path), exist_ok=True)\n",
    "drug_maccskeys_df_feature_ready.to_csv(single_drug_training_maccskeys_feature_file_path, sep = '\\t',index=False)"
   ]
  },
  {
   "cell_type": "code",
   "execution_count": 6,
   "metadata": {},
   "outputs": [],
   "source": [
    "#this is the final feature matrix containing pubchem_id : targets as 0-1 vector : Maccskeys\n",
    "\n",
    "drug_related_training_feature_df = drug_maccskeys_df_feature_ready.set_index('pubchem_cid').\\\n",
    "                                    join(drug_target_df_feature_ready.set_index('pubchem_cid'), how='inner').\\\n",
    "                                    reset_index()\n",
    "if (not os.path.exists(input_train_dir)):\n",
    "    print('hello')\n",
    "    os.makedirs(input_train_dir)\n",
    "    \n",
    "os.makedirs(os.path.dirname(single_drug_training_maccskeys_target_feature_file_path), exist_ok=True)    \n",
    "drug_related_training_feature_df.to_csv(single_drug_training_maccskeys_target_feature_file_path,index=False, sep = '\\t')\n",
    "\n"
   ]
  },
  {
   "cell_type": "code",
   "execution_count": 7,
   "metadata": {},
   "outputs": [
    {
     "name": "stdout",
     "output_type": "stream",
     "text": [
      "  pubchem_cid  0  1  2  3  4  5  6  7  8  ...  Q9H3R0  P14384  P29120  O00270  \\\n",
      "0       41744  0  0  0  0  0  0  0  0  0  ...       0       0       0       0   \n",
      "1    10052040  0  0  0  0  0  0  0  0  0  ...       0       0       0       0   \n",
      "2     6918456  0  0  0  0  0  0  0  0  0  ...       0       0       0       0   \n",
      "3     9574101  0  0  0  0  0  0  0  0  1  ...       0       0       0       0   \n",
      "4        3973  0  0  0  0  0  0  0  0  0  ...       0       0       0       0   \n",
      "\n",
      "   Q8TDC3  Q8IWQ3  Q8TBC4  Q15843  P49770  Q14232  \n",
      "0       0       0       0       0       0       0  \n",
      "1       0       0       0       0       0       0  \n",
      "2       0       0       0       0       0       0  \n",
      "3       0       0       0       0       0       0  \n",
      "4       0       0       0       0       0       0  \n",
      "\n",
      "[5 rows x 3545 columns]\n",
      "(1956, 3545)\n"
     ]
    }
   ],
   "source": [
    "drug_related_training_feature_df = pd.read_csv(single_drug_training_maccskeys_target_feature_file_path, sep='\\t', index_col=None)\n",
    "drug_related_training_feature_df['pubchem_cid'] = drug_related_training_feature_df['pubchem_cid'].astype(str)\n",
    "print(drug_related_training_feature_df.head())\n",
    "print(drug_related_training_feature_df.shape)"
   ]
  },
  {
   "cell_type": "markdown",
   "metadata": {},
   "source": [
    "# Create training labels: Training ready synergy score values for drugpairs"
   ]
  },
  {
   "cell_type": "code",
   "execution_count": 8,
   "metadata": {},
   "outputs": [
    {
     "name": "stdout",
     "output_type": "stream",
     "text": [
      "     Drug1         Drug2     Cell_line  Loewe    Bliss      ZIP  \\\n",
      "3  (+)-JQ1       (+)-JQ1            RD   1.28  11.3200  11.6800   \n",
      "4  (+)-JQ1       (+)-JQ1       SMS-CTR  -3.03   2.0600   4.5600   \n",
      "5  (+)-JQ1       (+)-JQ1  SU-DIPG-XIII   1.53  11.2300   9.2800   \n",
      "6  (+)-JQ1       (+)-JQ1          TMD8  -1.59   1.8475   1.5175   \n",
      "9  (+)-JQ1  1088965-37-0         U-HO1 -13.52  -5.6700  -2.8000   \n",
      "\n",
      "  Drug1_pubchem_cid Drug2_pubchem_cid  \n",
      "3          46907787          46907787  \n",
      "4          46907787          46907787  \n",
      "5          46907787          46907787  \n",
      "6          46907787          46907787  \n",
      "9          46907787          46898058  \n"
     ]
    }
   ],
   "source": [
    "# create a training ready file containing drug1_pubchem_id, drug_2_pubchem_id, cell_line, loewe score\n",
    "synergy_df = pd.read_csv(drug_pair_score_file).rename(columns={'Cell line': 'Cell_line'})\n",
    "synergy_df = synergy_df.groupby(['Drug1', 'Drug2', 'Cell_line']).\\\n",
    "            agg({'Loewe': 'mean', 'Bliss': 'mean', 'ZIP': 'mean'}).reset_index()\n",
    "# print(synergy_df.head())\n",
    "drugcombdb_drugname_pubchem_cid_map = drug_maccskeys_df[['drug_name','pubchem_cid']].set_index('drug_name')\n",
    "# print(drugcombdb_drugname_pubchem_cid_map.head())\n",
    "\n",
    "synergy_df = synergy_df[(synergy_df['Drug1'].isin(drugcombdb_drugname_pubchem_cid_map.index)) &\\\n",
    "                       (synergy_df['Drug2'].isin(drugcombdb_drugname_pubchem_cid_map.index))]\n",
    "# print(synergy_df.head())\n",
    "\n",
    "synergy_df['Drug1_pubchem_cid'] = synergy_df['Drug1'].apply\\\n",
    "                                (lambda x:drugcombdb_drugname_pubchem_cid_map.at[x,'pubchem_cid'] ).astype(str)\n",
    "synergy_df['Drug2_pubchem_cid'] = synergy_df['Drug2'].apply\\\n",
    "                                (lambda x:drugcombdb_drugname_pubchem_cid_map.at[x,'pubchem_cid'] ).astype(str)\n",
    "\n",
    "#keep only the synergy score for pairs of drugs for which we have other drug features available\n",
    "synergy_df = synergy_df[(synergy_df['Drug1_pubchem_cid'].isin(drug_related_training_feature_df['pubchem_cid'])) &\\\n",
    "                       (synergy_df['Drug2_pubchem_cid'].isin(drug_related_training_feature_df['pubchem_cid']))]\n",
    "\n",
    "print(synergy_df.head())"
   ]
  },
  {
   "cell_type": "code",
   "execution_count": 9,
   "metadata": {},
   "outputs": [
    {
     "name": "stdout",
     "output_type": "stream",
     "text": [
      "(204088, 6)\n",
      "(200500, 6)\n",
      "  Drug1_pubchem_cid Drug2_pubchem_cid Cell_line    Loewe   Bliss    ZIP\n",
      "0          10026128          24821094      TMD8 -32.9080  8.0085  6.642\n",
      "1          10026128          25126798  ED-40515  -8.7910  0.2680 -5.376\n",
      "2          10026128          25126798    L-1236 -33.1595  8.6385  9.728\n",
      "3          10026128          46907787      TMD8 -31.8700  7.1200  8.620\n",
      "4          10026128           6918837    DIPG25 -20.3905  0.9610  0.600\n"
     ]
    }
   ],
   "source": [
    "synergy_df = synergy_df[['Drug1_pubchem_cid','Drug2_pubchem_cid','Cell_line','Loewe','Bliss','ZIP']]\n",
    "print(synergy_df.shape)\n",
    "\n",
    "#if there is multiple entry for same drug-pairs with slightly different names in druncombdb scored file,\n",
    "#then this will cause multiple entry of a single drugpair for particular cell line.\n",
    "#I will take the average of those entries\n",
    "\n",
    "synergy_df = synergy_df.groupby(['Drug1_pubchem_cid','Drug2_pubchem_cid','Cell_line']).agg({'Loewe':'mean',\\\n",
    "                                'Bliss': 'mean', 'ZIP':'mean'}).reset_index()\n",
    "print(synergy_df.shape)\n",
    "print(synergy_df.head())\n",
    "\n",
    "os.makedirs(os.path.dirname(training_label_synergy_score_file_path), exist_ok=True)\n",
    "synergy_df.to_csv(training_label_synergy_score_file_path, sep='\\t', index = False)\n"
   ]
  },
  {
   "cell_type": "code",
   "execution_count": 10,
   "metadata": {},
   "outputs": [
    {
     "name": "stdout",
     "output_type": "stream",
     "text": [
      "  Drug1_pubchem_cid Drug2_pubchem_cid Cell_line    Loewe   Bliss    ZIP\n",
      "0          10026128          24821094      TMD8 -32.9080  8.0085  6.642\n",
      "1          10026128          25126798  ED-40515  -8.7910  0.2680 -5.376\n",
      "2          10026128          25126798    L-1236 -33.1595  8.6385  9.728\n",
      "3          10026128          46907787      TMD8 -31.8700  7.1200  8.620\n",
      "4          10026128           6918837    DIPG25 -20.3905  0.9610  0.600\n",
      "Index(['Drug1_pubchem_cid', 'Drug2_pubchem_cid', 'Cell_line', 'Loewe', 'Bliss',\n",
      "       'ZIP'],\n",
      "      dtype='object')\n",
      "['10026128' '10027278' '10029385' ... '9966051' '9967941' '9969021']\n"
     ]
    }
   ],
   "source": [
    "#Make sure that you are preserving the datatype while reading it from file\n",
    "synergy_df = pd.read_csv(training_label_synergy_score_file_path, sep='\\t', \\\n",
    "                         dtype = {'Drug1_pubchem_cid': str ,'Drug2_pubchem_cid': str,\\\n",
    "                         'Cell_line':str, 'Loewe': np.float64, 'Bliss': np.float64, 'ZIP': np.float64},\\\n",
    "                         index_col = None)\n",
    "\n",
    "print(synergy_df.head())\n",
    "print(synergy_df.columns)\n",
    "\n",
    "print(synergy_df['Drug1_pubchem_cid'].unique())"
   ]
  },
  {
   "cell_type": "markdown",
   "metadata": {},
   "source": [
    "# statistical analysis"
   ]
  },
  {
   "cell_type": "code",
   "execution_count": 11,
   "metadata": {},
   "outputs": [
    {
     "name": "stdout",
     "output_type": "stream",
     "text": [
      "     pubchem_cid                    drug_name  #drug_name_per_pubchem_cid\n",
      "5221         892  [scyllo-inositol, Inositol]                           2\n"
     ]
    }
   ],
   "source": [
    "#single pubchem to multiple drug_name mapping stat in drugbank\n",
    "drugbank_drug_target_grouped_df = drugbank_drug_target_df.groupby('pubchem_cid')['drug_name'].unique().reset_index()\n",
    "drugbank_drug_target_grouped_df['#drug_name_per_pubchem_cid'] = drugbank_drug_target_grouped_df['drug_name'].\\\n",
    "                                                            apply(lambda x: len(x))\n",
    "\n",
    "drugbank_drug_target_df_multiple_drugname_per_pubchem_id =\\\n",
    "            drugbank_drug_target_grouped_df[drugbank_drug_target_grouped_df['#drug_name_per_pubchem_cid']>1]\n",
    "print(drugbank_drug_target_df_multiple_drugname_per_pubchem_id)"
   ]
  },
  {
   "cell_type": "code",
   "execution_count": 12,
   "metadata": {},
   "outputs": [
    {
     "name": "stdout",
     "output_type": "stream",
     "text": [
      "      pubchem_cid                                          drug_name  \\\n",
      "197      10103168                                [GT-2203, VUF-5296]   \n",
      "242      10127622                                [ARRY-886, AZD6244]   \n",
      "930        104842                                  [LE-SN38, IT-141]   \n",
      "1824     11384493                              [CAY 10471, TM-30089]   \n",
      "2022     11498596                                 [TA-8995, AMG 899]   \n",
      "...           ...                                                ...   \n",
      "16993     9834591                           [LY404039, Pomaglumetad]   \n",
      "17169     9859866  [4-methyl-2-oxo-2H-chromen-7-yl sulfamate, COU...   \n",
      "17205     9865375                                  [HT-0712, OX-914]   \n",
      "17406     9891761                             [AVE-5997EF, AVE-5997]   \n",
      "17476     9905233                                 [CMI-977, MLN-977]   \n",
      "\n",
      "       #drug_name_per_pubchem_cid  \n",
      "197                             2  \n",
      "242                             2  \n",
      "930                             2  \n",
      "1824                            2  \n",
      "2022                            2  \n",
      "...                           ...  \n",
      "16993                           2  \n",
      "17169                           2  \n",
      "17205                           2  \n",
      "17406                           2  \n",
      "17476                           2  \n",
      "\n",
      "[86 rows x 3 columns]\n",
      "total pubchem id with multiple drug name: 86\n"
     ]
    }
   ],
   "source": [
    "#single pubchem to multiple drug_name mapping stat: TTD\n",
    "TTD_drug_target_grouped_df = TTD_drug_target_df.groupby('pubchem_cid')['drug_name'].unique().reset_index()\n",
    "TTD_drug_target_grouped_df['#drug_name_per_pubchem_cid'] = TTD_drug_target_grouped_df['drug_name'].\\\n",
    "                                                            apply(lambda x: len(x))\n",
    "\n",
    "TTD_drug_target_multiple_drugname_per_pubchem_id_df =\\\n",
    "            TTD_drug_target_grouped_df[TTD_drug_target_grouped_df['#drug_name_per_pubchem_cid']>1]\n",
    "print(TTD_drug_target_multiple_drugname_per_pubchem_id_df)\n",
    "print('total pubchem id with multiple drug name:', len(TTD_drug_target_multiple_drugname_per_pubchem_id_df))"
   ]
  },
  {
   "cell_type": "code",
   "execution_count": 14,
   "metadata": {},
   "outputs": [
    {
     "name": "stdout",
     "output_type": "stream",
     "text": [
      "Empty DataFrame\n",
      "Columns: [drug_name, pubchem_cid, #pubchem_cid_per_drug]\n",
      "Index: []\n"
     ]
    }
   ],
   "source": [
    "#single drug_name to multiple pubchem mapping stat\n",
    "drugbank_drug_target_grouped_df = drugbank_drug_target_df.groupby('drug_name')['pubchem_cid'].unique().reset_index()\n",
    "drugbank_drug_target_grouped_df['#pubchem_cid_per_drug'] = drugbank_drug_target_grouped_df['pubchem_cid'].\\\n",
    "                                                            apply(lambda x: len(x))\n",
    "\n",
    "drugbank_drug_target_df_multiple_pubchem_id_per_drugname =\\\n",
    "            drugbank_drug_target_grouped_df[drugbank_drug_target_grouped_df['#pubchem_cid_per_drug']>1]\n",
    "print(drugbank_drug_target_df_multiple_pubchem_id_per_drugname)"
   ]
  },
  {
   "cell_type": "code",
   "execution_count": 15,
   "metadata": {},
   "outputs": [
    {
     "name": "stdout",
     "output_type": "stream",
     "text": [
      "Empty DataFrame\n",
      "Columns: [drug_name, pubchem_cid, #pubchem_cid_per_drug]\n",
      "Index: []\n"
     ]
    }
   ],
   "source": [
    "#single drug_name to multiple pubchem mapping stat\n",
    "TTD_drug_target_grouped_df = TTD_drug_target_df.groupby('drug_name')['pubchem_cid'].unique().reset_index()\n",
    "TTD_drug_target_grouped_df['#pubchem_cid_per_drug'] = TTD_drug_target_grouped_df['pubchem_cid'].\\\n",
    "                                                            apply(lambda x: len(x))\n",
    "\n",
    "TTD_drug_target_df_multiple_pubchem_id_per_drugname =\\\n",
    "            TTD_drug_target_grouped_df[TTD_drug_target_grouped_df['#pubchem_cid_per_drug']>1]\n",
    "print(TTD_drug_target_df_multiple_pubchem_id_per_drugname)"
   ]
  },
  {
   "cell_type": "code",
   "execution_count": 17,
   "metadata": {},
   "outputs": [
    {
     "name": "stdout",
     "output_type": "stream",
     "text": [
      "total drugcombdb drug:  4193\n",
      "target info present for:  21297\n",
      "common:  1956\n"
     ]
    }
   ],
   "source": [
    "#find out for how many drugcombdb drug pubchem ids we have target information\n",
    "drugs_in_drugcombdb = set(drug_maccskeys_df_feature_ready['pubchem_cid'].astype(str))\n",
    "drugs_having_target_info = set(drug_target_df_feature_ready['pubchem_cid'].astype(str))\n",
    "\n",
    "print('total drugcombdb drug: ', len(drugs_in_drugcombdb))\n",
    "print('target info present for: ', len(drugs_having_target_info))\n",
    "print('common: ',len(drugs_in_drugcombdb.intersection(drugs_having_target_info)))\n",
    "\n",
    "# print(drugs_in_drugcombdb, '\\n')\n",
    "# print(drugs_having_target_info)\n",
    "\n",
    "common = drugs_in_drugcombdb.intersection(drugs_having_target_info)\n"
   ]
  },
  {
   "cell_type": "code",
   "execution_count": 18,
   "metadata": {},
   "outputs": [
    {
     "name": "stdout",
     "output_type": "stream",
     "text": [
      "{'TMD8': 615, 'ED-40515': 304, 'L-1236': 1490, 'DIPG25': 2351, 'KBM-7': 27871, 'Huh-7': 31, 'Mak': 31, 'HDLM-2': 31, 'L-428': 31, 'U-HO1': 686, 'SU-DIPG-XIII': 1049, 'TC-32': 575, 'TC-71': 1315, 'EW-8': 17, 'Rh36': 101, '786-0': 2462, 'A498': 2453, 'A549': 2444, 'ACHN': 2477, 'BT-549': 2444, 'CAKI-1': 2459, 'CCRF-CEM': 2409, 'COLO 205': 2446, 'DU-145': 2450, 'EKVX': 2467, 'HCC-2998': 2374, 'HCT-15': 2471, 'HCT116': 2771, 'HL-60(TB)': 2334, 'HS 578T': 2436, 'HT29': 2781, 'IGROV1': 2450, 'K-562': 2433, 'KM12': 2456, 'LOX IMVI': 2326, 'M14': 2439, 'MALME-3M': 2458, 'MCF7': 2471, 'MDA-MB-231': 2470, 'MDA-MB-435': 2424, 'MDA-MB-468': 2449, 'MOLT-4': 2385, 'NCI-H226': 2460, 'NCI-H322M': 2444, 'NCI-H460': 2759, 'NCI-H522': 2425, 'NCIH23': 2794, 'NCI\\\\\\\\/ADR-RES': 2485, 'OVCAR-4': 2446, 'OVCAR-5': 2472, 'OVCAR-8': 2443, 'OVCAR3': 2753, 'PC-3': 2456, 'RPMI-8226': 2351, 'RXF 393': 2408, 'SF-268': 2469, 'SF-295': 2414, 'SF-539': 2441, 'SK-MEL-28': 2466, 'SK-MEL-5': 2448, 'SK-OV-3': 2800, 'SN12C': 2464, 'SNB-19': 2469, 'SNB-75': 2356, 'SR': 2406, 'SW-620': 2789, 'T-47D': 2765, 'TK-10': 2472, 'U251': 2457, 'UACC-257': 2477, 'UACC62': 2771, 'UO-31': 2436, 'HOP-62': 2390, 'HOP-92': 2403, 'SK-MEL-2': 1729, 'A2058': 357, 'A2780': 357, 'A375': 357, 'A427': 357, 'CAOV3': 357, 'COLO320DM': 357, 'DLD1': 357, 'EFM192B': 357, 'ES2': 357, 'HT144': 357, 'KPL1': 357, 'LNCAP': 357, 'LOVO': 357, 'MDAMB436': 357, 'MSTO': 357, 'NCIH1650': 357, 'NCIH2122': 357, 'NCIH520': 357, 'OCUBM': 357, 'OV90': 357, 'PA1': 357, 'RKO': 357, 'RPMI7951': 357, 'SKMEL30': 357, 'SKMES1': 357, 'SW837': 357, 'UWB1289': 357, 'UWB1289+BRCA1': 357, 'VCAP': 357, 'ZR751': 357, '3D7': 1395, 'DD2': 1396, 'HB3': 1395, 'JHH-136': 236, 'KB-3-1': 18, 'KB-ChR-8-5-11': 18, 'CTR': 84, 'JHH-520': 22, 'RD': 85, 'SMS-CTR': 63, 'PANC-1': 3, 'A-375': 4, 'COLO 858': 4, 'MMAC-SF': 4, 'MZ7-mel': 4, 'WM-115': 4}\n"
     ]
    }
   ],
   "source": [
    "#find out for how many drugcombdb drug-pairs we have target information for both drugs\n",
    "cell_lines  = synergy_df['Cell_line'].unique()\n",
    "drug_pairs_per_cell_line_having_all_feature_val={x:0 for x in cell_lines}\n",
    "\n",
    "# synergy_df = synergy_df.reset_index()\n",
    "\n",
    "\n",
    "for row in synergy_df.itertuples():\n",
    "        drug_pairs_per_cell_line_having_all_feature_val[row.Cell_line] += 1\n",
    "\n",
    "print(drug_pairs_per_cell_line_having_all_feature_val) "
   ]
  },
  {
   "cell_type": "code",
   "execution_count": 19,
   "metadata": {},
   "outputs": [
    {
     "name": "stdout",
     "output_type": "stream",
     "text": [
      "[3, 4, 4, 4, 4, 4, 17, 18, 18, 22, 31, 31, 31, 31, 63, 84, 85, 101, 236, 304, 357, 357, 357, 357, 357, 357, 357, 357, 357, 357, 357, 357, 357, 357, 357, 357, 357, 357, 357, 357, 357, 357, 357, 357, 357, 357, 357, 357, 357, 357, 575, 615, 686, 1049, 1315, 1395, 1395, 1396, 1490, 1729, 2326, 2334, 2351, 2351, 2356, 2374, 2385, 2390, 2403, 2406, 2408, 2409, 2414, 2424, 2425, 2433, 2436, 2436, 2439, 2441, 2443, 2444, 2444, 2444, 2446, 2446, 2448, 2449, 2450, 2450, 2453, 2456, 2456, 2457, 2458, 2459, 2460, 2462, 2464, 2466, 2467, 2469, 2469, 2470, 2471, 2471, 2472, 2472, 2477, 2477, 2485, 2753, 2759, 2765, 2771, 2771, 2781, 2789, 2794, 2800, 27871]\n"
     ]
    },
    {
     "data": {
      "image/png": "[encoded data removed]",
      "text/plain": [
       "<Figure size 432x288 with 1 Axes>"
      ]
     },
     "metadata": {
      "needs_background": "light"
     },
     "output_type": "display_data"
    }
   ],
   "source": [
    "#plot_hist\n",
    "number_of_drug_pairs_list = list((drug_pairs_per_cell_line_having_all_feature_val.values()))\n",
    "number_of_drug_pairs_list.sort()\n",
    "print(number_of_drug_pairs_list)\n",
    "\n",
    "bins_seq = list(np.arange(0,3000,100))\n",
    "# bins_seq = bins_seq+[20000,30000,40000,50000]\n",
    "\n",
    "# print(bins_seq)\n",
    "\n",
    "fig, ax = plt.subplots()\n",
    "ax.hist(drug_pairs_per_cell_line_having_all_feature_val.values(),bins=bins_seq,alpha=0.5,label='#total drug pairs')\n",
    "# y_label = 'number of cell lines (' + str(len(number_of_drug_pairs_list)) + ')'\n",
    "y_label = 'number of cell lines'\n",
    "x_label = 'number of drug pairs'\n",
    "\n",
    "ax.set_ylabel(y_label)\n",
    "ax.set_xlabel(x_label)\n",
    "# ax.legend()\n",
    "\n",
    "# plt.title('#drug combinations per cell line for which all feature values are available')\n",
    "file_name = output_dir+'/Viz/'+ 'drug_pairs_per_cell_line.pdf'\n",
    "os.makedirs(os.path.dirname(file_name), exist_ok=True)\n",
    "plt.savefig(file_name, format= 'pdf', bbox_inches = 'tight' )\n",
    "plt.show()\n",
    "\n"
   ]
  },
  {
   "cell_type": "code",
   "execution_count": 20,
   "metadata": {},
   "outputs": [
    {
     "name": "stdout",
     "output_type": "stream",
     "text": [
      "61\n"
     ]
    }
   ],
   "source": [
    "count =0\n",
    "for x in number_of_drug_pairs_list:\n",
    "    if x>2000:\n",
    "        count+=1\n",
    "print (count)"
   ]
  }
 ],
 "metadata": {
  "kernelspec": {
   "display_name": "Python 3",
   "language": "python",
   "name": "python3"
  },
  "language_info": {
   "codemirror_mode": {
    "name": "ipython",
    "version": 3
   },
   "file_extension": ".py",
   "mimetype": "text/x-python",
   "name": "python",
   "nbconvert_exporter": "python",
   "pygments_lexer": "ipython3",
   "version": "3.7.9"
  }
 },
 "nbformat": 4,
 "nbformat_minor": 4
}
