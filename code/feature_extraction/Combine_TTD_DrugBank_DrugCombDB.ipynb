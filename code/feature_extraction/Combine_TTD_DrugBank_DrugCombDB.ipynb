{
 "cells": [
  {
   "cell_type": "code",
   "execution_count": 1,
   "metadata": {},
   "outputs": [],
   "source": [
    "import os\n",
    "import pandas as pd\n",
    "import numpy as np\n",
    "import matplotlib.pyplot as plt\n"
   ]
  },
  {
   "cell_type": "code",
   "execution_count": 2,
   "metadata": {},
   "outputs": [
    {
     "name": "stdout",
     "output_type": "stream",
     "text": [
      "/home/tasnina/Projects/SynVerse/code/feature_extraction\n",
      "/home/tasnina/Projects/SynVerse\n"
     ]
    }
   ],
   "source": [
    "print(os.getcwd())\n",
    "os.chdir('../../')\n",
    "print(os.getcwd())"
   ]
  },
  {
   "cell_type": "code",
   "execution_count": 5,
   "metadata": {},
   "outputs": [],
   "source": [
    "dataset_dir = \"datasets/\"\n",
    "processed_drug_feature_path = dataset_dir + 'processed/drug/'\n",
    "drug_pair_score_file = dataset_dir+ 'drug-comb-db/' + 'drugcombs_scored.csv'\n",
    "\n",
    "drugcombdb_drug_chem_smiles_maccskeys_info_file =  processed_drug_feature_path + 'drug_chem_smiles_maccskeys_info_file.tsv'\n",
    "drugbank_drug_target_mapping_file = processed_drug_feature_path+ 'drug_target_map_drugbank.tsv'\n",
    "TTD_drug_target_mapping_file= processed_drug_feature_path+'drug_target_map_TTD.tsv'\n",
    "\n",
    "input_synergy_dir = \"inputs/synergy/\"\n",
    "input_drug_dir = \"inputs/drugs/\"\n",
    "TTD_drugbank_drug_target_map_file = input_drug_dir+'drug_target_map.tsv'\n",
    "single_drug_training_maccskeys_target_feature_file_path = input_drug_dir + 'single_drugs_maccskeys_target_features.tsv'\n",
    "single_drug_training_maccskeys_feature_file_path = input_drug_dir + 'single_drugs_maccskeys_features.tsv'\n",
    "training_label_synergy_score_file_path =  input_synergy_dir + 'synergy_labels.tsv'\n",
    "\n",
    "\n",
    "\n",
    "\n",
    "output_dir = \"outputs/\""
   ]
  },
  {
   "cell_type": "markdown",
   "metadata": {},
   "source": [
    "# Combine protein target data from TTD, Drugbank and MACCSKEYS data for drugs in drugcombdb"
   ]
  },
  {
   "cell_type": "code",
   "execution_count": 6,
   "metadata": {},
   "outputs": [
    {
     "name": "stdout",
     "output_type": "stream",
     "text": [
      "drugbank:   pubchem_cid    drug_name uniprot_id\n",
      "0   101041682  Bivalirudin     P00734\n",
      "1   101041682  Bivalirudin     P05164\n",
      "2      657181   Leuprolide     P30968\n",
      "3      657181   Leuprolide     P08684\n",
      "4     5311128    Goserelin     P22888\n",
      "TTD:    pubchem_cid                                         drug_name uniprot_id\n",
      "0    23643731          8-O-(4-chlorobenzenesulfonyl)manzamine F     P49841\n",
      "1    44341439               2-Hexyloxy-5-imidazol-1-yl-pyridine     P10635\n",
      "2    44435223  Anthracen-10-yl(10H-phenothiazin-10-yl)methanone     P06276\n",
      "3       73255                                        VOACANGINE     P22303\n",
      "4         702                                           Ethanol     P14867\n",
      "  pubchem_cid uniprot_id\n",
      "0   101041682     P00734\n",
      "1   101041682     P05164\n",
      "2      657181     P30968\n",
      "3      657181     P08684\n",
      "4     5311128     P22888\n"
     ]
    }
   ],
   "source": [
    "#combine drugbank and TTD drug-target information\n",
    "\n",
    "drugbank_drug_target_df = pd.read_csv(drugbank_drug_target_mapping_file, sep='\\t')\n",
    "drugbank_drug_target_df['pubchem_cid'] = drugbank_drug_target_df['pubchem_cid'].astype(str)\n",
    "\n",
    "TTD_drug_target_df = pd.read_csv(TTD_drug_target_mapping_file, sep='\\t')\n",
    "TTD_drug_target_df['pubchem_cid'] = TTD_drug_target_df['pubchem_cid'].astype(str)\n",
    "\n",
    "drug_target_df = pd.concat([drugbank_drug_target_df, TTD_drug_target_df], axis= 0)\n",
    "\n",
    "\n",
    "print('drugbank:', drugbank_drug_target_df.head())\n",
    "print('TTD: ', TTD_drug_target_df.head())\n",
    "\n",
    "os.makedirs(os.path.dirname(TTD_drugbank_drug_target_map_file), exist_ok=True)\n",
    "\n",
    "df = drug_target_df[['pubchem_cid','uniprot_id']].drop_duplicates()\n",
    "print(df.head())\n",
    "df.to_csv(TTD_drugbank_drug_target_map_file, sep='\\t')\n",
    "#note: 1. a pubchem id can be mapped to multiple drug_name\n",
    "#     2. a drug_name can be mapped to multiple pubchem_id\n",
    "#     So many to many relationship\n",
    "\n"
   ]
  },
  {
   "cell_type": "code",
   "execution_count": 7,
   "metadata": {},
   "outputs": [
    {
     "name": "stdout",
     "output_type": "stream",
     "text": [
      "  pubchem_cid  P00734  P05164  P30968  P08684  P22888  P30518  P37288  P47901  \\\n",
      "0   101041682       1       1       0       0       0       0       0       0   \n",
      "1      657181       0       0       1       1       0       0       0       0   \n",
      "2     5311128       0       0       1       0       1       0       0       0   \n",
      "3     5311065       0       0       0       0       0       1       1       1   \n",
      "4    25074887       0       0       1       0       1       0       0       0   \n",
      "\n",
      "   P23219  ...  Q9H3R0  P14384  P29120  O00270  Q8TDC3  Q8IWQ3  Q8TBC4  \\\n",
      "0       0  ...       0       0       0       0       0       0       0   \n",
      "1       0  ...       0       0       0       0       0       0       0   \n",
      "2       0  ...       0       0       0       0       0       0       0   \n",
      "3       1  ...       0       0       0       0       0       0       0   \n",
      "4       0  ...       0       0       0       0       0       0       0   \n",
      "\n",
      "   Q15843  P49770  Q14232  \n",
      "0       0       0       0  \n",
      "1       0       0       0  \n",
      "2       0       0       0  \n",
      "3       0       0       0  \n",
      "4       0       0       0  \n",
      "\n",
      "[5 rows x 3378 columns]\n",
      "(21297, 3378)\n",
      "['101041682' '657181' '5311128' ... '59693' '46891059' '21854226']\n"
     ]
    }
   ],
   "source": [
    "#create the feature matrix containing all the targets for a drug as a 0-1 vector.\n",
    "unique_proteins = drug_target_df['uniprot_id'].unique()\n",
    "unique_proteins_in_Index_form = pd.Index(pd.Series(unique_proteins))\n",
    "number_of_unique_proteins = len(unique_proteins)\n",
    "unique_pubchem_ids = drug_target_df['pubchem_cid'].unique()\n",
    "\n",
    "drug_targets ={ pubchem_id: np.zeros(number_of_unique_proteins, dtype=int) for pubchem_id in  unique_pubchem_ids}\n",
    "\n",
    "for index,row in drug_target_df.iterrows():\n",
    "    #find the index of the current target (i.e.present in the current row) in unique_proteins\n",
    "    prot_position = unique_proteins_in_Index_form.get_loc(row['uniprot_id'])\n",
    "    drug_targets[row['pubchem_cid']][prot_position] = 1\n",
    "    \n",
    "drug_target_df_feature_ready = pd.DataFrame.from_dict(drug_targets, orient='index', columns=unique_proteins)\n",
    "drug_target_df_feature_ready = drug_target_df_feature_ready.reset_index().rename(columns={'index':'pubchem_cid'})\n",
    "drug_target_df_feature_ready['pubchem_cid']=drug_target_df_feature_ready['pubchem_cid'].astype(str)\n",
    "print(drug_target_df_feature_ready.head())\n",
    "print(drug_target_df_feature_ready.shape)\n",
    "print(drug_target_df_feature_ready['pubchem_cid'].unique())\n",
    "  \n",
    "    "
   ]
  },
  {
   "cell_type": "code",
   "execution_count": 9,
   "metadata": {},
   "outputs": [
    {
     "name": "stdout",
     "output_type": "stream",
     "text": [
      "(4193, 168)\n",
      "(4193, 167)\n"
     ]
    }
   ],
   "source": [
    "# convert MACCSKEYS to 166 columns\n",
    "\n",
    "drug_maccskeys_df = pd.read_csv(drugcombdb_drug_chem_smiles_maccskeys_info_file, sep = '\\t')\n",
    "drug_maccskeys_df = drug_maccskeys_df[['pubchem_cid','Drug_Name','MACCSKeys','MACCSKeys_bitstring']].\\\n",
    "                    rename(columns={'Drug_Name':'drug_name'})\n",
    "# print(drug_maccskeys_df.head())\n",
    "# print(drug_maccskeys_df.shape)\n",
    "# print(drug_maccskeys_df.nunique())\n",
    "# print(drug_maccskeys_df['pubchem_cid'].unique())\n",
    "\n",
    "\n",
    "drug_maccskeys_string_dict = {}\n",
    "for index, row in drug_maccskeys_df.iterrows():\n",
    "    drug_maccskeys_string_dict[row['pubchem_cid']] = list(row['MACCSKeys_bitstring'])\n",
    "drug_maccskeys_df_feature_ready = pd.DataFrame.from_dict(drug_maccskeys_string_dict, orient = 'index').\\\n",
    "                                reset_index().rename(columns={'index':'pubchem_cid'})\n",
    "drug_maccskeys_df_feature_ready['pubchem_cid'] = drug_maccskeys_df_feature_ready['pubchem_cid'].astype(str)\n",
    "print(drug_maccskeys_df_feature_ready.shape)\n",
    "# print(drug_maccskeys_df_feature_ready.head())\n",
    "\n",
    "# print(drug_maccskeys_df_feature_ready['pubchem_cid'].unique())\n",
    "#drop column as it does not contain any meaningful info\n",
    "drug_maccskeys_df_feature_ready.drop([0],axis=1,inplace=True)\n",
    "print(drug_maccskeys_df_feature_ready.shape)\n",
    "# print(drug_maccskeys_df_feature_ready.head())\n",
    "\n",
    "os.makedirs(os.path.dirname(single_drug_training_maccskeys_feature_file_path), exist_ok=True)\n",
    "drug_maccskeys_df_feature_ready.to_csv(single_drug_training_maccskeys_feature_file_path, sep = '\\t',index=False)"
   ]
  },
  {
   "cell_type": "code",
   "execution_count": 10,
   "metadata": {},
   "outputs": [],
   "source": [
    "#this is the final feature matrix containing pubchem_id : targets as 0-1 vector : Maccskeys\n",
    "\n",
    "drug_related_training_feature_df = drug_maccskeys_df_feature_ready.set_index('pubchem_cid').\\\n",
    "                                    join(drug_target_df_feature_ready.set_index('pubchem_cid'), how='inner').\\\n",
    "                                    reset_index()\n",
    "if (not os.path.exists(input_train_dir)):\n",
    "    print('hello')\n",
    "    os.makedirs(input_train_dir)\n",
    "    \n",
    "os.makedirs(os.path.dirname(single_drug_training_maccskeys_target_feature_file_path), exist_ok=True)    \n",
    "drug_related_training_feature_df.to_csv(single_drug_training_maccskeys_target_feature_file_path,index=False, sep = '\\t')\n",
    "\n"
   ]
  },
  {
   "cell_type": "code",
   "execution_count": 11,
   "metadata": {},
   "outputs": [
    {
     "name": "stdout",
     "output_type": "stream",
     "text": [
      "  pubchem_cid  1  2  3  4  5  6  7  8  9  ...  Q9H3R0  P14384  P29120  O00270  \\\n",
      "0       41744  0  0  0  0  0  0  0  0  0  ...       0       0       0       0   \n",
      "1    10052040  0  0  0  0  0  0  0  0  0  ...       0       0       0       0   \n",
      "2     6918456  0  0  0  0  0  0  0  0  0  ...       0       0       0       0   \n",
      "3     9574101  0  0  0  0  0  0  0  1  0  ...       0       0       0       0   \n",
      "4        3973  0  0  0  0  0  0  0  0  0  ...       0       0       0       0   \n",
      "\n",
      "   Q8TDC3  Q8IWQ3  Q8TBC4  Q15843  P49770  Q14232  \n",
      "0       0       0       0       0       0       0  \n",
      "1       0       0       0       0       0       0  \n",
      "2       0       0       0       0       0       0  \n",
      "3       0       0       0       0       0       0  \n",
      "4       0       0       0       0       0       0  \n",
      "\n",
      "[5 rows x 3544 columns]\n",
      "(1956, 3544)\n"
     ]
    }
   ],
   "source": [
    "drug_related_training_feature_df = pd.read_csv(single_drug_training_maccskeys_target_feature_file_path, sep='\\t', index_col=None)\n",
    "drug_related_training_feature_df['pubchem_cid'] = drug_related_training_feature_df['pubchem_cid'].astype(str)\n",
    "print(drug_related_training_feature_df.head())\n",
    "print(drug_related_training_feature_df.shape)"
   ]
  },
  {
   "cell_type": "markdown",
   "metadata": {},
   "source": [
    "# Create training labels: Training ready synergy score values for drugpairs"
   ]
  },
  {
   "cell_type": "code",
   "execution_count": 110,
   "metadata": {
    "scrolled": false
   },
   "outputs": [
    {
     "name": "stdout",
     "output_type": "stream",
     "text": [
      "      Drug1                       Drug2 Cell_line  Loewe   Bliss     ZIP  \\\n",
      "9   (+)-JQ1                1088965-37-0     U-HO1 -13.52  -5.670  -2.800   \n",
      "11  (+)-JQ1                 200484-11-3     U-HO1  -0.10  23.475  23.675   \n",
      "18  (+)-JQ1                    AK-77283     U-HO1  -7.23   8.780   6.750   \n",
      "20  (+)-JQ1  ALVESPIMYCIN HYDROCHLORIDE    DIPG25  -1.79  -5.970  -8.350   \n",
      "21  (+)-JQ1                      AT7519     U-HO1  -3.97  19.070  19.570   \n",
      "\n",
      "   Drug1_pubchem_cid Drug2_pubchem_cid  \n",
      "9           46907787          46898058  \n",
      "11          46907787            148198  \n",
      "18          46907787           6918837  \n",
      "20          46907787           9852573  \n",
      "21          46907787          11338033  \n"
     ]
    }
   ],
   "source": [
    "# create a training ready file containing drug1_pubchem_id, drug_2_pubchem_id, cell_line, loewe score\n",
    "synergy_df = pd.read_csv(drug_pair_score_file).rename(columns={'Cell line': 'Cell_line'})\n",
    "synergy_df = synergy_df.groupby(['Drug1', 'Drug2', 'Cell_line']).\\\n",
    "            agg({'Loewe': 'mean', 'Bliss': 'mean', 'ZIP': 'mean'}).reset_index()\n",
    "# print(synergy_df.head())\n",
    "drugcombdb_drugname_pubchem_cid_map = drug_maccskeys_df[['drug_name','pubchem_cid']].set_index('drug_name')\n",
    "# print(drugcombdb_drugname_pubchem_cid_map.head())\n",
    "\n",
    "synergy_df = synergy_df[(synergy_df['Drug1'].isin(drugcombdb_drugname_pubchem_cid_map.index)) &\\\n",
    "                       (synergy_df['Drug2'].isin(drugcombdb_drugname_pubchem_cid_map.index))]\n",
    "# print(synergy_df.head())\n",
    "\n",
    "synergy_df['Drug1_pubchem_cid'] = synergy_df['Drug1'].apply\\\n",
    "                                (lambda x:drugcombdb_drugname_pubchem_cid_map.at[x,'pubchem_cid'] ).astype(str)\n",
    "synergy_df['Drug2_pubchem_cid'] = synergy_df['Drug2'].apply\\\n",
    "                                (lambda x:drugcombdb_drugname_pubchem_cid_map.at[x,'pubchem_cid'] ).astype(str)\n",
    "\n",
    "#keep only the synergy score for pairs of drugs for which we have other drug features available\n",
    "synergy_df = synergy_df[(synergy_df['Drug1_pubchem_cid'].isin(drug_related_training_feature_df['pubchem_cid'])) &\\\n",
    "                       (synergy_df['Drug2_pubchem_cid'].isin(drug_related_training_feature_df['pubchem_cid']))]\n",
    "#remove pairs where drug1==drug2\n",
    "synergy_df = synergy_df[synergy_df['Drug1_pubchem_cid']!= synergy_df['Drug2_pubchem_cid']]\n",
    "\n",
    "print(synergy_df.head())"
   ]
  },
  {
   "cell_type": "code",
   "execution_count": 111,
   "metadata": {},
   "outputs": [],
   "source": [
    "def std(x): return np.std(x)"
   ]
  },
  {
   "cell_type": "code",
   "execution_count": 112,
   "metadata": {},
   "outputs": [
    {
     "name": "stdout",
     "output_type": "stream",
     "text": [
      "(203891, 8)\n",
      "(194146, 9)\n"
     ]
    }
   ],
   "source": [
    "synergy_df = synergy_df[['Drug1_pubchem_cid','Drug2_pubchem_cid','Cell_line','Loewe','Bliss','ZIP']]\n",
    "# \n",
    "\n",
    "#if there is multiple entry for same drug-pairs with slightly different names in druncombdb scored file,\n",
    "#then this will cause multiple entry of a single drugpair for particular cell line.\n",
    "#I will take the average of those entries\n",
    "\n",
    "# print(type(synergy_df['Drug2_pubchem_cid'].values[0]))\n",
    "synergy_df['max_drug'] = synergy_df[['Drug1_pubchem_cid','Drug2_pubchem_cid']].astype(int).max(axis=1).astype(str)\n",
    "synergy_df['min_drug'] = synergy_df[['Drug1_pubchem_cid','Drug2_pubchem_cid']].astype(int).min(axis=1).astype(str)\n",
    "\n",
    "#from multiple source we can get same drug-drug-cell_line tuples with different Loewe score. In such cases,\n",
    "#keep the drug-drug-cellline tuples for which score from multiple sources do not differ by more than 10.\n",
    "\n",
    "df = synergy_df.groupby(['max_drug','min_drug','Cell_line']).\\\n",
    "                                        agg({'Loewe':[std,'mean','min','max'],'Bliss': 'mean', 'ZIP':'mean'}).reset_index()\n",
    "df.columns = ['_'.join(col).strip() for col in df.columns.values]\n",
    "# print(df.head())\n",
    "print(synergy_df.shape)\n",
    "print(df.shape)\n",
    "\n"
   ]
  },
  {
   "cell_type": "code",
   "execution_count": 126,
   "metadata": {},
   "outputs": [
    {
     "name": "stderr",
     "output_type": "stream",
     "text": [
      "/home/tasnina/miniconda3/envs/drug/lib/python3.7/site-packages/ipykernel_launcher.py:4: SettingWithCopyWarning: \n",
      "A value is trying to be set on a copy of a slice from a DataFrame.\n",
      "Try using .loc[row_indexer,col_indexer] = value instead\n",
      "\n",
      "See the caveats in the documentation: https://pandas.pydata.org/pandas-docs/stable/user_guide/indexing.html#returning-a-view-versus-a-copy\n",
      "  after removing the cwd from sys.path.\n",
      "/home/tasnina/miniconda3/envs/drug/lib/python3.7/site-packages/ipykernel_launcher.py:5: SettingWithCopyWarning: \n",
      "A value is trying to be set on a copy of a slice from a DataFrame.\n",
      "Try using .loc[row_indexer,col_indexer] = value instead\n",
      "\n",
      "See the caveats in the documentation: https://pandas.pydata.org/pandas-docs/stable/user_guide/indexing.html#returning-a-view-versus-a-copy\n",
      "  \"\"\"\n",
      "/home/tasnina/miniconda3/envs/drug/lib/python3.7/site-packages/ipykernel_launcher.py:6: SettingWithCopyWarning: \n",
      "A value is trying to be set on a copy of a slice from a DataFrame.\n",
      "Try using .loc[row_indexer,col_indexer] = value instead\n",
      "\n",
      "See the caveats in the documentation: https://pandas.pydata.org/pandas-docs/stable/user_guide/indexing.html#returning-a-view-versus-a-copy\n",
      "  \n",
      "/home/tasnina/miniconda3/envs/drug/lib/python3.7/site-packages/ipykernel_launcher.py:7: SettingWithCopyWarning: \n",
      "A value is trying to be set on a copy of a slice from a DataFrame.\n",
      "Try using .loc[row_indexer,col_indexer] = value instead\n",
      "\n",
      "See the caveats in the documentation: https://pandas.pydata.org/pandas-docs/stable/user_guide/indexing.html#returning-a-view-versus-a-copy\n",
      "  import sys\n",
      "/home/tasnina/miniconda3/envs/drug/lib/python3.7/site-packages/ipykernel_launcher.py:8: SettingWithCopyWarning: \n",
      "A value is trying to be set on a copy of a slice from a DataFrame.\n",
      "Try using .loc[row_indexer,col_indexer] = value instead\n",
      "\n",
      "See the caveats in the documentation: https://pandas.pydata.org/pandas-docs/stable/user_guide/indexing.html#returning-a-view-versus-a-copy\n",
      "  \n",
      "/home/tasnina/miniconda3/envs/drug/lib/python3.7/site-packages/ipykernel_launcher.py:9: SettingWithCopyWarning: \n",
      "A value is trying to be set on a copy of a slice from a DataFrame.\n",
      "Try using .loc[row_indexer,col_indexer] = value instead\n",
      "\n",
      "See the caveats in the documentation: https://pandas.pydata.org/pandas-docs/stable/user_guide/indexing.html#returning-a-view-versus-a-copy\n",
      "  if __name__ == '__main__':\n"
     ]
    },
    {
     "name": "stdout",
     "output_type": "stream",
     "text": [
      "186483   Drug1_pubchem_cid Drug2_pubchem_cid Cell_line    Loewe    Bliss     ZIP\n",
      "0          10026128           6918837    DIPG25 -20.3905   0.9610  0.6000\n",
      "1          10029385           6918837    DIPG25   4.2340   3.7995  3.4965\n",
      "2          10047612              2719       3D7   2.3460  -4.4470 -5.1690\n",
      "3          10047612              2719       DD2   2.2820   0.5210 -3.4340\n",
      "4          10047612              2719       HB3   2.3580   0.7810  2.0630\n",
      "5          10047612              4046       3D7  -2.1380   0.3660 -0.3100\n",
      "6          10047612              4046       DD2   0.4140   0.9340  0.7530\n",
      "7          10047612              4046       HB3  -0.1320   0.6920  0.4470\n",
      "8          10052040           6918837    DIPG25 -11.7570   2.7895  2.7240\n",
      "9          10074640           6918837    DIPG25 -19.5890 -10.0475 -6.4830\n",
      "186483   Drug1_pubchem_cid Drug2_pubchem_cid Cell_line    Loewe    Bliss     ZIP\n",
      "0           6918837          10026128    DIPG25 -20.3905   0.9610  0.6000\n",
      "1           6918837          10029385    DIPG25   4.2340   3.7995  3.4965\n",
      "2              2719          10047612       3D7   2.3460  -4.4470 -5.1690\n",
      "3              2719          10047612       DD2   2.2820   0.5210 -3.4340\n",
      "4              2719          10047612       HB3   2.3580   0.7810  2.0630\n",
      "5              4046          10047612       3D7  -2.1380   0.3660 -0.3100\n",
      "6              4046          10047612       DD2   0.4140   0.9340  0.7530\n",
      "7              4046          10047612       HB3  -0.1320   0.6920  0.4470\n",
      "8           6918837          10052040    DIPG25 -11.7570   2.7895  2.7240\n",
      "9           6918837          10074640    DIPG25 -19.5890 -10.0475 -6.4830\n",
      "186483   Drug1_pubchem_cid Drug2_pubchem_cid Cell_line    Loewe    Bliss     ZIP\n",
      "0           6918837          10026128    DIPG25 -20.3905   0.9610  0.6000\n",
      "1           6918837          10029385    DIPG25   4.2340   3.7995  3.4965\n",
      "2          10047612              2719       3D7   2.3460  -4.4470 -5.1690\n",
      "3          10047612              2719       DD2   2.2820   0.5210 -3.4340\n",
      "4              2719          10047612       HB3   2.3580   0.7810  2.0630\n",
      "5              4046          10047612       3D7  -2.1380   0.3660 -0.3100\n",
      "6              4046          10047612       DD2   0.4140   0.9340  0.7530\n",
      "7              4046          10047612       HB3  -0.1320   0.6920  0.4470\n",
      "8           6918837          10052040    DIPG25 -11.7570   2.7895  2.7240\n",
      "9          10074640           6918837    DIPG25 -19.5890 -10.0475 -6.4830\n"
     ]
    }
   ],
   "source": [
    "df['std_by_mean'] = df['Loewe_std']/df['Loewe_mean'].abs()\n",
    "synergy_df = df[df['std_by_mean']<=0.02]\n",
    "\n",
    "synergy_df['Drug1_pubchem_cid'] = synergy_df['max_drug_']\n",
    "synergy_df['Drug2_pubchem_cid'] = synergy_df['min_drug_']\n",
    "synergy_df['Cell_line'] = synergy_df['Cell_line_']\n",
    "synergy_df['Loewe'] = synergy_df['Loewe_mean']\n",
    "synergy_df['Bliss'] = synergy_df['Bliss_mean']\n",
    "synergy_df['ZIP'] = synergy_df['ZIP_mean']\n",
    "\n",
    "synergy_df = synergy_df[['Drug1_pubchem_cid', 'Drug2_pubchem_cid','Cell_line','Loewe','Bliss','ZIP']].\\\n",
    "                reset_index(drop=True)\n",
    "print(len(synergy_df), synergy_df.head(10))\n",
    "\n",
    "#here the max drug is in synergy_df[Drug1_pubchem_cid] and min drug in 'Drug2_pubchem_cid'.\\\n",
    "#But I do not want to put any such restriction. so swapping drug_1 and drug_2 randomly.\n",
    "synergy_df_swap = synergy_df.copy()\n",
    "synergy_df_swap['Drug1_pubchem_cid'] = synergy_df['Drug2_pubchem_cid']\n",
    "synergy_df_swap['Drug2_pubchem_cid'] = synergy_df['Drug1_pubchem_cid']\n",
    "print(len(synergy_df_swap), synergy_df_swap.head(10))\n",
    "\n",
    "\n",
    "#take some pairs from synergy_df and other from synergy_df_swap\n",
    "np.random.seed(1)\n",
    "is_original = np.random.choice([True,False], size=len(synergy_df))\n",
    "\n",
    "# concat to make new dataset\n",
    "synergy_df = pd.concat((synergy_df[is_original],synergy_df_swap[~is_original])).reindex(range(len(synergy_df)))\n",
    "print(len(synergy_df),synergy_df.head(10))\n",
    "\n",
    "os.makedirs(os.path.dirname(training_label_synergy_score_file_path), exist_ok=True)\n",
    "synergy_df.to_csv(training_label_synergy_score_file_path, sep='\\t', index = False)\n"
   ]
  },
  {
   "cell_type": "code",
   "execution_count": 127,
   "metadata": {
    "scrolled": true
   },
   "outputs": [
    {
     "name": "stdout",
     "output_type": "stream",
     "text": [
      "194146\n"
     ]
    },
    {
     "data": {
      "image/png": "[encoded data removed]",
      "text/plain": [
       "<Figure size 432x288 with 1 Axes>"
      ]
     },
     "metadata": {
      "needs_background": "light"
     },
     "output_type": "display_data"
    },
    {
     "name": "stdout",
     "output_type": "stream",
     "text": [
      "(array([9.60529704e-01, 1.56068114e-03, 1.37010291e-03, 4.65113883e-03,\n",
      "       1.37525368e-03, 1.17437392e-03, 9.37438835e-04, 9.63192649e-04,\n",
      "       8.13820527e-04, 8.60177392e-04]), array([0.  , 0.02, 0.04, 0.06, 0.08, 0.1 , 0.12, 0.14, 0.16, 0.18, 0.2 ]), <BarContainer object of 10 artists>)\n"
     ]
    }
   ],
   "source": [
    "data =np.abs(list(df['std_by_mean']))\n",
    "# print(data)\n",
    "# print(df['Loewe_std'])\n",
    "print(len(data))\n",
    "plt.figure(figsize=(6, 4))\n",
    "x = plt.hist(data,  weights=np.zeros_like(data) + 1. / len(data), bins=10, range=(0,0.2))\n",
    "# x = plt.hist(data,range=(0,50),bins=5)\n",
    "plt.xlabel('std/mean of Loewe score')\n",
    "plt.ylabel('fraction of total tuples')\n",
    "\n",
    "plt.savefig(output_dir+'/Viz/standard_deviation_Loewe_score.png')\n",
    "plt.savefig(output_dir+'/Viz/standard_deviation_Loewe_score.pdf')\n",
    "plt.show()\n",
    "print(x)"
   ]
  },
  {
   "cell_type": "markdown",
   "metadata": {},
   "source": [
    "# statistical analysis"
   ]
  },
  {
   "cell_type": "code",
   "execution_count": 92,
   "metadata": {},
   "outputs": [
    {
     "name": "stdout",
     "output_type": "stream",
     "text": [
      "  Drug1_pubchem_cid Drug2_pubchem_cid Cell_line    Loewe   Bliss     ZIP\n",
      "0          10026128           6918837    DIPG25 -20.3905  0.9610  0.6000\n",
      "1          10027278           6918837    DIPG25 -24.6370 -8.2000 -6.2565\n",
      "2          10029385           6918837    DIPG25   4.2340  3.7995  3.4965\n",
      "3          10047612              2719       3D7   2.3460 -4.4470 -5.1690\n",
      "4          10047612              2719       DD2   2.2820  0.5210 -3.4340\n",
      "Index(['Drug1_pubchem_cid', 'Drug2_pubchem_cid', 'Cell_line', 'Loewe', 'Bliss',\n",
      "       'ZIP'],\n",
      "      dtype='object')\n",
      "['10026128' '10027278' '10029385' ... '9966051' '9967941' '9969021']\n"
     ]
    }
   ],
   "source": [
    "#Make sure that you are preserving the datatype while reading it from file\n",
    "synergy_df = pd.read_csv(training_label_synergy_score_file_path, sep='\\t', \\\n",
    "                         dtype = {'Drug1_pubchem_cid': str ,'Drug2_pubchem_cid': str,\\\n",
    "                         'Cell_line':str, 'Loewe': np.float64, 'Bliss': np.float64, 'ZIP': np.float64},\\\n",
    "                         index_col = None)\n",
    "\n",
    "print(synergy_df.head())\n",
    "print(synergy_df.columns)\n",
    "\n",
    "print(synergy_df['Drug1_pubchem_cid'].unique())"
   ]
  },
  {
   "cell_type": "code",
   "execution_count": 93,
   "metadata": {},
   "outputs": [
    {
     "name": "stdout",
     "output_type": "stream",
     "text": [
      "     pubchem_cid                    drug_name  #drug_name_per_pubchem_cid\n",
      "5221         892  [scyllo-inositol, Inositol]                           2\n"
     ]
    }
   ],
   "source": [
    "#single pubchem to multiple drug_name mapping stat in drugbank\n",
    "drugbank_drug_target_grouped_df = drugbank_drug_target_df.groupby('pubchem_cid')['drug_name'].unique().reset_index()\n",
    "drugbank_drug_target_grouped_df['#drug_name_per_pubchem_cid'] = drugbank_drug_target_grouped_df['drug_name'].\\\n",
    "                                                            apply(lambda x: len(x))\n",
    "\n",
    "drugbank_drug_target_df_multiple_drugname_per_pubchem_id =\\\n",
    "            drugbank_drug_target_grouped_df[drugbank_drug_target_grouped_df['#drug_name_per_pubchem_cid']>1]\n",
    "print(drugbank_drug_target_df_multiple_drugname_per_pubchem_id)"
   ]
  },
  {
   "cell_type": "code",
   "execution_count": 94,
   "metadata": {},
   "outputs": [
    {
     "name": "stdout",
     "output_type": "stream",
     "text": [
      "      pubchem_cid                                          drug_name  \\\n",
      "197      10103168                                [GT-2203, VUF-5296]   \n",
      "242      10127622                                [ARRY-886, AZD6244]   \n",
      "930        104842                                  [LE-SN38, IT-141]   \n",
      "1824     11384493                              [CAY 10471, TM-30089]   \n",
      "2022     11498596                                 [TA-8995, AMG 899]   \n",
      "...           ...                                                ...   \n",
      "16993     9834591                           [LY404039, Pomaglumetad]   \n",
      "17169     9859866  [4-methyl-2-oxo-2H-chromen-7-yl sulfamate, COU...   \n",
      "17205     9865375                                  [HT-0712, OX-914]   \n",
      "17406     9891761                             [AVE-5997EF, AVE-5997]   \n",
      "17476     9905233                                 [CMI-977, MLN-977]   \n",
      "\n",
      "       #drug_name_per_pubchem_cid  \n",
      "197                             2  \n",
      "242                             2  \n",
      "930                             2  \n",
      "1824                            2  \n",
      "2022                            2  \n",
      "...                           ...  \n",
      "16993                           2  \n",
      "17169                           2  \n",
      "17205                           2  \n",
      "17406                           2  \n",
      "17476                           2  \n",
      "\n",
      "[86 rows x 3 columns]\n",
      "total pubchem id with multiple drug name: 86\n"
     ]
    }
   ],
   "source": [
    "#single pubchem to multiple drug_name mapping stat: TTD\n",
    "TTD_drug_target_grouped_df = TTD_drug_target_df.groupby('pubchem_cid')['drug_name'].unique().reset_index()\n",
    "TTD_drug_target_grouped_df['#drug_name_per_pubchem_cid'] = TTD_drug_target_grouped_df['drug_name'].\\\n",
    "                                                            apply(lambda x: len(x))\n",
    "\n",
    "TTD_drug_target_multiple_drugname_per_pubchem_id_df =\\\n",
    "            TTD_drug_target_grouped_df[TTD_drug_target_grouped_df['#drug_name_per_pubchem_cid']>1]\n",
    "print(TTD_drug_target_multiple_drugname_per_pubchem_id_df)\n",
    "print('total pubchem id with multiple drug name:', len(TTD_drug_target_multiple_drugname_per_pubchem_id_df))"
   ]
  },
  {
   "cell_type": "code",
   "execution_count": 95,
   "metadata": {},
   "outputs": [
    {
     "name": "stdout",
     "output_type": "stream",
     "text": [
      "Empty DataFrame\n",
      "Columns: [drug_name, pubchem_cid, #pubchem_cid_per_drug]\n",
      "Index: []\n"
     ]
    }
   ],
   "source": [
    "#single drug_name to multiple pubchem mapping stat\n",
    "drugbank_drug_target_grouped_df = drugbank_drug_target_df.groupby('drug_name')['pubchem_cid'].unique().reset_index()\n",
    "drugbank_drug_target_grouped_df['#pubchem_cid_per_drug'] = drugbank_drug_target_grouped_df['pubchem_cid'].\\\n",
    "                                                            apply(lambda x: len(x))\n",
    "\n",
    "drugbank_drug_target_df_multiple_pubchem_id_per_drugname =\\\n",
    "            drugbank_drug_target_grouped_df[drugbank_drug_target_grouped_df['#pubchem_cid_per_drug']>1]\n",
    "print(drugbank_drug_target_df_multiple_pubchem_id_per_drugname)"
   ]
  },
  {
   "cell_type": "code",
   "execution_count": 96,
   "metadata": {},
   "outputs": [
    {
     "name": "stdout",
     "output_type": "stream",
     "text": [
      "Empty DataFrame\n",
      "Columns: [drug_name, pubchem_cid, #pubchem_cid_per_drug]\n",
      "Index: []\n"
     ]
    }
   ],
   "source": [
    "#single drug_name to multiple pubchem mapping stat\n",
    "TTD_drug_target_grouped_df = TTD_drug_target_df.groupby('drug_name')['pubchem_cid'].unique().reset_index()\n",
    "TTD_drug_target_grouped_df['#pubchem_cid_per_drug'] = TTD_drug_target_grouped_df['pubchem_cid'].\\\n",
    "                                                            apply(lambda x: len(x))\n",
    "\n",
    "TTD_drug_target_df_multiple_pubchem_id_per_drugname =\\\n",
    "            TTD_drug_target_grouped_df[TTD_drug_target_grouped_df['#pubchem_cid_per_drug']>1]\n",
    "print(TTD_drug_target_df_multiple_pubchem_id_per_drugname)"
   ]
  },
  {
   "cell_type": "code",
   "execution_count": 97,
   "metadata": {},
   "outputs": [
    {
     "name": "stdout",
     "output_type": "stream",
     "text": [
      "total drugcombdb drug:  4193\n",
      "target info present for:  21297\n",
      "common:  1956\n"
     ]
    }
   ],
   "source": [
    "#find out for how many drugcombdb drug pubchem ids we have target information\n",
    "drugs_in_drugcombdb = set(drug_maccskeys_df_feature_ready['pubchem_cid'].astype(str))\n",
    "drugs_having_target_info = set(drug_target_df_feature_ready['pubchem_cid'].astype(str))\n",
    "\n",
    "print('total drugcombdb drug: ', len(drugs_in_drugcombdb))\n",
    "print('target info present for: ', len(drugs_having_target_info))\n",
    "print('common: ',len(drugs_in_drugcombdb.intersection(drugs_having_target_info)))\n",
    "\n",
    "# print(drugs_in_drugcombdb, '\\n')\n",
    "# print(drugs_having_target_info)\n",
    "\n",
    "common = drugs_in_drugcombdb.intersection(drugs_having_target_info)\n"
   ]
  },
  {
   "cell_type": "code",
   "execution_count": 98,
   "metadata": {},
   "outputs": [
    {
     "name": "stdout",
     "output_type": "stream",
     "text": [
      "{'DIPG25': 1998, '3D7': 1223, 'DD2': 1219, 'HB3': 1234, 'KBM-7': 27638, 'Huh-7': 23, 'Mak': 22, 'SU-DIPG-XIII': 1032, 'TC-32': 558, 'L-1236': 1450, 'TC-71': 1013, 'U-HO1': 527, '786-0': 2341, 'A498': 2354, 'A549': 2344, 'ACHN': 2369, 'BT-549': 2316, 'CAKI-1': 2335, 'CCRF-CEM': 2306, 'COLO 205': 2339, 'DU-145': 2337, 'EKVX': 2353, 'HCC-2998': 2296, 'HCT-15': 2354, 'HCT116': 2650, 'HL-60(TB)': 2244, 'HOP-62': 2289, 'HOP-92': 2303, 'HS 578T': 2324, 'HT29': 2643, 'IGROV1': 2340, 'K-562': 2327, 'LOX IMVI': 2204, 'M14': 2329, 'MALME-3M': 2341, 'MCF7': 2347, 'MDA-MB-231': 2363, 'MDA-MB-435': 2316, 'MDA-MB-468': 2316, 'MOLT-4': 2270, 'NCI-H226': 2352, 'NCI-H322M': 2333, 'NCI-H460': 2618, 'NCI-H522': 2325, 'NCIH23': 2648, 'NCI\\\\\\\\/ADR-RES': 2370, 'OVCAR-4': 2338, 'OVCAR-5': 2368, 'OVCAR-8': 2323, 'OVCAR3': 2616, 'PC-3': 2352, 'RPMI-8226': 2236, 'RXF 393': 2302, 'SF-268': 2358, 'SF-295': 2289, 'SF-539': 2329, 'SK-MEL-2': 1646, 'SK-MEL-28': 2347, 'SK-MEL-5': 2330, 'SK-OV-3': 2655, 'SN12C': 2334, 'SNB-19': 2363, 'SNB-75': 2253, 'SR': 2317, 'SW-620': 2669, 'T-47D': 2607, 'TK-10': 2359, 'U251': 2342, 'UACC-257': 2361, 'UACC62': 2632, 'UO-31': 2324, 'KM12': 2355, 'A2058': 357, 'A2780': 357, 'A375': 357, 'A427': 357, 'CAOV3': 357, 'COLO320DM': 357, 'DLD1': 357, 'EFM192B': 357, 'ES2': 357, 'HT144': 357, 'KPL1': 357, 'LNCAP': 357, 'LOVO': 357, 'MDAMB436': 357, 'MSTO': 357, 'NCIH1650': 357, 'NCIH2122': 357, 'NCIH520': 357, 'OCUBM': 357, 'OV90': 357, 'PA1': 357, 'RKO': 357, 'RPMI7951': 357, 'SKMEL30': 357, 'SKMES1': 357, 'SW837': 357, 'UWB1289': 357, 'UWB1289+BRCA1': 357, 'VCAP': 357, 'ZR751': 357, 'JHH-136': 211, 'TMD8': 541, 'KB-3-1': 18, 'KB-ChR-8-5-11': 16, 'JHH-520': 18, 'PANC-1': 3, 'EW-8': 17, 'Rh36': 91, 'CTR': 74, 'RD': 32, 'SMS-CTR': 52, 'HDLM-2': 21, 'L-428': 24, 'ED-40515': 300, 'A-375': 4, 'COLO 858': 4, 'MMAC-SF': 4, 'MZ7-mel': 4, 'WM-115': 4}\n"
     ]
    }
   ],
   "source": [
    "#find out for how many drugcombdb drug-pairs we have target information for both drugs\n",
    "cell_lines  = synergy_df['Cell_line'].unique()\n",
    "drug_pairs_per_cell_line_having_all_feature_val={x:0 for x in cell_lines}\n",
    "\n",
    "# synergy_df = synergy_df.reset_index()\n",
    "\n",
    "\n",
    "for row in synergy_df.itertuples():\n",
    "        drug_pairs_per_cell_line_having_all_feature_val[row.Cell_line] += 1\n",
    "\n",
    "print(drug_pairs_per_cell_line_having_all_feature_val) "
   ]
  },
  {
   "cell_type": "code",
   "execution_count": 99,
   "metadata": {},
   "outputs": [
    {
     "name": "stdout",
     "output_type": "stream",
     "text": [
      "[3, 4, 4, 4, 4, 4, 16, 17, 18, 18, 21, 22, 23, 24, 32, 52, 74, 91, 211, 300, 357, 357, 357, 357, 357, 357, 357, 357, 357, 357, 357, 357, 357, 357, 357, 357, 357, 357, 357, 357, 357, 357, 357, 357, 357, 357, 357, 357, 357, 357, 527, 541, 558, 1013, 1032, 1219, 1223, 1234, 1450, 1646, 1998, 2204, 2236, 2244, 2253, 2270, 2289, 2289, 2296, 2302, 2303, 2306, 2316, 2316, 2316, 2317, 2323, 2324, 2324, 2325, 2327, 2329, 2329, 2330, 2333, 2334, 2335, 2337, 2338, 2339, 2340, 2341, 2341, 2342, 2344, 2347, 2347, 2352, 2352, 2353, 2354, 2354, 2355, 2358, 2359, 2361, 2363, 2363, 2368, 2369, 2370, 2607, 2616, 2618, 2632, 2643, 2648, 2650, 2655, 2669, 27638]\n"
     ]
    },
    {
     "data": {
      "image/png": "[encoded data removed]",
      "text/plain": [
       "<Figure size 432x288 with 1 Axes>"
      ]
     },
     "metadata": {
      "needs_background": "light"
     },
     "output_type": "display_data"
    }
   ],
   "source": [
    "#plot_hist\n",
    "number_of_drug_pairs_list = list((drug_pairs_per_cell_line_having_all_feature_val.values()))\n",
    "number_of_drug_pairs_list.sort()\n",
    "print(number_of_drug_pairs_list)\n",
    "\n",
    "bins_seq = list(np.arange(0,3000,100))\n",
    "# bins_seq = bins_seq+[20000,30000,40000,50000]\n",
    "\n",
    "# print(bins_seq)\n",
    "\n",
    "fig, ax = plt.subplots()\n",
    "ax.hist(drug_pairs_per_cell_line_having_all_feature_val.values(),bins=bins_seq,alpha=0.5,label='#total drug pairs')\n",
    "# y_label = 'number of cell lines (' + str(len(number_of_drug_pairs_list)) + ')'\n",
    "y_label = 'number of cell lines'\n",
    "x_label = 'number of drug pairs'\n",
    "\n",
    "ax.set_ylabel(y_label)\n",
    "ax.set_xlabel(x_label)\n",
    "# ax.legend()\n",
    "\n",
    "# plt.title('#drug combinations per cell line for which all feature values are available')\n",
    "# file_name = output_dir+'/Viz/'+ 'drug_pairs_per_cell_line.pdf'\n",
    "# os.makedirs(os.path.dirname(file_name), exist_ok=True)\n",
    "# plt.savefig(file_name, format= 'pdf', bbox_inches = 'tight' )\n",
    "plt.show()\n",
    "\n"
   ]
  },
  {
   "cell_type": "code",
   "execution_count": 100,
   "metadata": {},
   "outputs": [
    {
     "name": "stdout",
     "output_type": "stream",
     "text": [
      "60\n"
     ]
    }
   ],
   "source": [
    "count =0\n",
    "for x in number_of_drug_pairs_list:\n",
    "    if x>2000:\n",
    "        count+=1\n",
    "print (count)"
   ]
  },
  {
   "cell_type": "code",
   "execution_count": null,
   "metadata": {},
   "outputs": [],
   "source": []
  }
 ],
 "metadata": {
  "kernelspec": {
   "display_name": "Python 3",
   "language": "python",
   "name": "python3"
  },
  "language_info": {
   "codemirror_mode": {
    "name": "ipython",
    "version": 3
   },
   "file_extension": ".py",
   "mimetype": "text/x-python",
   "name": "python",
   "nbconvert_exporter": "python",
   "pygments_lexer": "ipython3",
   "version": "3.7.7"
  }
 },
 "nbformat": 4,
 "nbformat_minor": 4
}
