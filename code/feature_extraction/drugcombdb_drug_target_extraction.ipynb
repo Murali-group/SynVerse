{
 "cells": [
  {
   "cell_type": "code",
   "execution_count": 1,
   "id": "a1a76e25",
   "metadata": {
    "scrolled": true
   },
   "outputs": [
    {
     "name": "stdout",
     "output_type": "stream",
     "text": [
      "/home/tasnina/Projects/SynVerse/code/feature_extraction\n",
      "/home/tasnina/Projects/SynVerse\n"
     ]
    }
   ],
   "source": [
    "import pandas as pd\n",
    "import numpy as np\n",
    "import sys\n",
    "import os\n",
    "\n",
    "import time\n",
    "\n",
    "print(os.getcwd())\n",
    "os.chdir('../../')\n",
    "print(os.getcwd())\n",
    "\n",
    "\n",
    "\n",
    "\n"
   ]
  },
  {
   "cell_type": "code",
   "execution_count": 2,
   "id": "c8cb2d62",
   "metadata": {},
   "outputs": [],
   "source": [
    "dataset_dir = \"datasets/\"\n",
    "drug_target_links_file = dataset_dir+ 'drug-comb-db/' + 'drug_protein_links.tsv'\n",
    "target_file = dataset_dir+ 'drug-comb-db/' + 'targets.tsv'\n",
    "STRINGID_uniprot_map_file = dataset_dir + 'mappings/human/'+ 'STRINGID_uniprot_map.tsv'\n",
    "drug_target_map_ttd_drug_bank_file = 'inputs/drugs/drug_target_map_only_ttd_drug_bank.tsv' \n",
    "final_drug_target_map_file = 'inputs/drugs/drug_target_map.tsv' "
   ]
  },
  {
   "cell_type": "code",
   "execution_count": 3,
   "id": "presidential-michael",
   "metadata": {},
   "outputs": [
    {
     "name": "stdout",
     "output_type": "stream",
     "text": [
      "chemical          787039\n",
      "protein            19195\n",
      "experimental         910\n",
      "prediction           389\n",
      "database              15\n",
      "textmining           901\n",
      "combined_score       850\n",
      "dtype: int64\n",
      "19195\n",
      "15473939\n"
     ]
    }
   ],
   "source": [
    "drug_target_df = pd.read_csv(drug_target_links_file, sep='\\t')\n",
    "print(drug_target_df.nunique())\n",
    "#this is a one time thing. Save the STRINGID of target proteins in a file. \n",
    "#Not in code: Later upload the file to https://www.uniprot.org/uploadlists/ to retrieve uniprotID.\n",
    "#save the uniprotID's in STRINGID_uniprot_map.tsv\n",
    "targets = pd.Series(drug_target_df['protein'].unique())\n",
    "targets.to_csv(target_file, sep='\\t', index = False, header = False)\n",
    "print(len(targets))\n",
    "print(len(drug_target_df))"
   ]
  },
  {
   "cell_type": "code",
   "execution_count": 4,
   "id": "common-founder",
   "metadata": {},
   "outputs": [],
   "source": [
    "pd.Series(drug_target_df['chemical'].unique()).to_csv(dataset_dir+ 'drug-comb-db/drugcombdb_drugs.csv', sep='\\t')"
   ]
  },
  {
   "cell_type": "code",
   "execution_count": null,
   "id": "83921318",
   "metadata": {},
   "outputs": [],
   "source": [
    "#read the STRING_ID to uniprot_id mapping file\n",
    "string_to_uniprot_df = pd.read_csv(STRINGID_uniprot_map_file, sep='\\t')\n",
    "print(string_to_uniprot_df.head())\n",
    "string_to_uniprot_dict = dict(zip(string_to_uniprot_df['STRING'], string_to_uniprot_df['uniprot']))\n",
    "\n",
    "#now read the drug_comb_db drug_target info file. Rename column 'chemical' as 'pubchem_id'\n",
    "drug_target_df = pd.read_csv(drug_target_links_file, sep='\\t')\n",
    "drug_target_df.head()\n",
    "drug_target_df['pubchem_cid'] = drug_target_df['chemical'].apply(lambda x: x.replace('CIDm',''))\n",
    "\n",
    "#filter out the target proteins from drug_comb_db that do not have uniprot id mapping\n",
    "drug_target_df= drug_target_df[drug_target_df['protein'].isin(string_to_uniprot_dict.keys())]\n",
    "drug_target_df['uniprot_id'] = drug_target_df['protein'].apply(lambda x:string_to_uniprot_dict[x])                           \n",
    "print(drug_target_df.head())\n",
    "\n",
    "#only keep columns 'pubchem_cid' and 'uniprot_id'\n",
    "drug_target_df = drug_target_df[['pubchem_cid','uniprot_id']]\n",
    "\n",
    "#load drug target map containing targets from TTD and drugbank and combine it with target info from drugcombdb\n",
    "init_drug_target_map_df = pd.read_csv(drug_target_map_ttd_drug_bank_file, sep='\\t')\n",
    "final_drug_target_df = pd.concat([init_drug_target_map_df,drug_target_df], axis=0).reset_index(drop=True)\n",
    "final_drug_target_df.drop_duplicates(inplace=True)\n",
    "\n"
   ]
  },
  {
   "cell_type": "code",
   "execution_count": null,
   "id": "4e8eecf8",
   "metadata": {},
   "outputs": [],
   "source": [
    "final_drug_target_df = final_drug_target_df[['pubchem_cid','uniprot_id']]\n",
    "final_drug_target_df.to_csv(final_drug_target_map_file, sep='\\t', index=False)\n",
    "print(final_drug_target_df.head())"
   ]
  },
  {
   "cell_type": "code",
   "execution_count": null,
   "id": "19c5c9e3",
   "metadata": {},
   "outputs": [],
   "source": [
    "#create the feature matrix containing all the targets for a drug as a 0-1 vector.\n",
    "unique_proteins = final_drug_target_df['uniprot_id'].unique()\n",
    "unique_proteins_in_Index_form = pd.Index(pd.Series(unique_proteins))\n",
    "number_of_unique_proteins = len(unique_proteins)\n",
    "unique_pubchem_ids = final_drug_target_df['pubchem_cid'].unique()\n",
    "\n",
    "drug_targets ={ pubchem_id: np.zeros(number_of_unique_proteins, dtype=int) for pubchem_id in  unique_pubchem_ids}\n",
    "\n",
    "for index,row in final_drug_target_df.iterrows():\n",
    "    #find the index of the current target (i.e.present in the current row) in unique_proteins\n",
    "    prot_position = unique_proteins_in_Index_form.get_loc(row['uniprot_id'])\n",
    "    drug_targets[row['pubchem_cid']][prot_position] = 1\n",
    "    \n",
    "drug_target_df_feature_ready = pd.DataFrame.from_dict(drug_targets, orient='index', columns=unique_proteins)\n",
    "drug_target_df_feature_ready = drug_target_df_feature_ready.reset_index().rename(columns={'index':'pubchem_cid'})\n",
    "drug_target_df_feature_ready['pubchem_cid']=drug_target_df_feature_ready['pubchem_cid'].astype(str)\n",
    "print(drug_target_df_feature_ready.head())\n",
    "print(drug_target_df_feature_ready.shape)\n",
    "print(drug_target_df_feature_ready['pubchem_cid'].unique())"
   ]
  },
  {
   "cell_type": "code",
   "execution_count": null,
   "id": "improved-norman",
   "metadata": {},
   "outputs": [],
   "source": []
  }
 ],
 "metadata": {
  "kernelspec": {
   "display_name": "Python 3",
   "language": "python",
   "name": "python3"
  },
  "language_info": {
   "codemirror_mode": {
    "name": "ipython",
    "version": 3
   },
   "file_extension": ".py",
   "mimetype": "text/x-python",
   "name": "python",
   "nbconvert_exporter": "python",
   "pygments_lexer": "ipython3",
   "version": "3.7.7"
  }
 },
 "nbformat": 4,
 "nbformat_minor": 5
}
