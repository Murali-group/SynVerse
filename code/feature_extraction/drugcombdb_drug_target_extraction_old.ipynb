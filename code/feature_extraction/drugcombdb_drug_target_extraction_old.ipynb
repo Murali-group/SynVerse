{
 "cells": [
  {
   "cell_type": "code",
   "execution_count": 1,
   "id": "a1a76e25",
   "metadata": {
    "scrolled": true
   },
   "outputs": [
    {
     "name": "stdout",
     "output_type": "stream",
     "text": [
      "/media/tassnina/Study/VT/Research/Projects/SynVerse/code/feature_extraction\n",
      "/media/tassnina/Study/VT/Research/Projects/SynVerse\n"
     ]
    }
   ],
   "source": [
    "import pandas as pd\n",
    "import numpy as np\n",
    "import sys\n",
    "import os\n",
    "\n",
    "import time\n",
    "\n",
    "print(os.getcwd())\n",
    "os.chdir('../../')\n",
    "print(os.getcwd())\n",
    "\n",
    "\n",
    "\n",
    "\n"
   ]
  },
  {
   "cell_type": "code",
   "execution_count": 6,
   "id": "c8cb2d62",
   "metadata": {},
   "outputs": [],
   "source": [
    "dataset_dir = \"datasets/\"\n",
    "drug_target_links_file = dataset_dir+ 'drug-comb-db/' + 'drug_protein_links.tsv'\n",
    "target_file = dataset_dir+ 'drug-comb-db/' + 'targets.tsv'\n",
    "STRINGID_uniprot_map_file = dataset_dir + 'mappings/human/'+ 'STRINGID_uniprot_map.tsv'\n",
    "final_drug_target_map_file = 'inputs/drugs/drug_target_map.tsv' "
   ]
  },
  {
   "cell_type": "code",
   "execution_count": 8,
   "id": "83921318",
   "metadata": {},
   "outputs": [
    {
     "name": "stdout",
     "output_type": "stream",
     "text": [
      "19195\n",
      "15473939\n",
      "  uniprot   Entry name    Status              Organism                STRING\n",
      "0  Q9BZR9  TRIM8_HUMAN  reviewed  Homo sapiens (Human)  9606.ENSP00000302120\n",
      "1  Q6NTF9  RHBD2_HUMAN  reviewed  Homo sapiens (Human)  9606.ENSP00000006777\n",
      "2  Q12774  ARHG5_HUMAN  reviewed  Homo sapiens (Human)  9606.ENSP00000056217\n",
      "3  Q9Y3P4  RHBD3_HUMAN  reviewed  Homo sapiens (Human)  9606.ENSP00000216085\n",
      "4  O95140   MFN2_HUMAN  reviewed  Homo sapiens (Human)  9606.ENSP00000235329\n"
     ]
    }
   ],
   "source": [
    "#this is a one time thing. Save the STRINGID of target proteins in a file. \n",
    "#Not in code: Later upload the file to https://www.uniprot.org/uploadlists/ to retrieve uniprotID.\n",
    "#save the uniprotID's in STRINGID_uniprot_map.tsv\n",
    "targets = pd.Series(drug_target_df['protein'].unique())\n",
    "targets.to_csv(target_file, sep='\\t', index = False, header = False)\n",
    "# drug_target_df.head()\n",
    "print(len(targets))\n",
    "print(len(drug_target_df))\n",
    "\n",
    "string_to_uniprot_df = pd.read_csv(STRINGID_uniprot_map_file, sep='\\t')\n",
    "print(string_to_uniprot_df.head())\n",
    "string_to_uniprot_dict = dict(zip(string_to_uniprot_df['STRING'], string_to_uniprot_df['uniprot']))\n",
    "drug_target_df= drug_target_df[drug_target_df['protein'].isin(string_to_uniprot_dict.keys())]\n",
    "drug_target_df['uniprot_id'] = drug_target_df['protein'].apply(lambda x:string_to_uniprot_dict[x])                           \n",
    "\n",
    "drug_target_df = drug_target_df[['pubchem_cid','uniprot_id']]\n",
    "\n",
    "\n",
    "#load drug target map containing targets from TTD and drugbank and combine it with target info from drugcombdb\n",
    "init_drug_target_map_df = pd.read_csv(final_drug_target_map_file, sep='\\t')\n",
    "final_drug_target_df = pd.concat([init_drug_target_map_df,drug_target_df], axis=0).reset_index(drop=True)\n",
    "final_drug_target_df.drop_duplicates(inplace=True)"
   ]
  },
  {
   "cell_type": "code",
   "execution_count": 9,
   "id": "4e8eecf8",
   "metadata": {},
   "outputs": [],
   "source": [
    "drug_target_df = pd.read_csv(drug_target_links_file, sep='\\t')\n",
    "drug_target_df.head()\n",
    "drug_target_df['pubchem_cid'] = drug_target_df['chemical'].apply(lambda x: x.replace('CIDm',''))\n"
   ]
  },
  {
   "cell_type": "code",
   "execution_count": null,
   "id": "19c5c9e3",
   "metadata": {},
   "outputs": [],
   "source": [
    "print(drug_target_df.head())"
   ]
  }
 ],
 "metadata": {
  "kernelspec": {
   "display_name": "Python 3",
   "language": "python",
   "name": "python3"
  },
  "language_info": {
   "codemirror_mode": {
    "name": "ipython",
    "version": 3
   },
   "file_extension": ".py",
   "mimetype": "text/x-python",
   "name": "python",
   "nbconvert_exporter": "python",
   "pygments_lexer": "ipython3",
   "version": "3.7.7"
  }
 },
 "nbformat": 4,
 "nbformat_minor": 5
}
