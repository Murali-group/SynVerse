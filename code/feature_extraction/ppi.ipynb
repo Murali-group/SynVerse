{
 "cells": [
  {
   "cell_type": "code",
   "execution_count": 8,
   "metadata": {
    "scrolled": true
   },
   "outputs": [],
   "source": [
    "import argparse\n",
    "import yaml\n",
    "from collections import defaultdict\n",
    "import os\n",
    "import sys\n",
    "import copy\n",
    "import time\n",
    "import pandas as pd\n",
    "sys.path.insert(0,\"/home/tasnina/Projects/SynVerse\")\n",
    "from sars2net.src.setup_datasets import setup_dataset_files"
   ]
  },
  {
   "cell_type": "code",
   "execution_count": 9,
   "metadata": {},
   "outputs": [
    {
     "name": "stdout",
     "output_type": "stream",
     "text": [
      "/home/tasnina/Projects/SynVerse/sars2net/\n",
      "/home/tasnina/Projects/SynVerse\n",
      "/home/tasnina/Projects/SynVerse/sars2net/src\n",
      "/home/tasnina/Projects/SynVerse\n",
      "/home/tasnina/Projects/SynVerse/sars2net/src\n",
      "/home/tasnina/Projects/SynVerse\n",
      "/home/tasnina/Projects/SynVerse/sars2net/src\n",
      "/home/tasnina/Projects/SynVerse\n",
      "/home/tasnina/Projects/SynVerse/sars2net/src\n",
      "/home/tasnina/Projects/SynVerse\n",
      "/home/tasnina/Projects/SynVerse/code/Feature Extraction\n",
      "/home/tasnina/miniconda3/envs/drug/lib/python37.zip\n",
      "/home/tasnina/miniconda3/envs/drug/lib/python3.7\n",
      "/home/tasnina/miniconda3/envs/drug/lib/python3.7/lib-dynload\n",
      "\n",
      "/home/tasnina/miniconda3/envs/drug/lib/python3.7/site-packages\n",
      "/home/tasnina/miniconda3/envs/drug/lib/python3.7/site-packages/IPython/extensions\n",
      "/home/tasnina/.ipython\n"
     ]
    }
   ],
   "source": [
    "for d in sys.path:\n",
    "    print (d)"
   ]
  },
  {
   "cell_type": "code",
   "execution_count": 3,
   "metadata": {},
   "outputs": [],
   "source": [
    "def parse_args():\n",
    "    parser = setup_opts()\n",
    "    args = parser.parse_args()\n",
    "    kwargs = vars(args)\n",
    "    with open(args.config, 'r') as conf:\n",
    "        config_map = yaml.load(conf)\n",
    "    return config_map, kwargs\n",
    "\n",
    "\n",
    "def setup_opts():\n",
    "    ## Parse command line args.\n",
    "    parser = argparse.ArgumentParser(description=\"Script to download and parse input files, and (TODO) run the FastSinkSource pipeline using them.\")\n",
    "\n",
    "    # general parameters\n",
    "    group = parser.add_argument_group('Main Options')\n",
    "    group.add_argument('--config', type=str, default=\"config-files/master-config.yaml\",\n",
    "                       help=\"Configuration file for this script.\")\n",
    "    group.add_argument('--download-only', action='store_true', default=False,\n",
    "                       help=\"Stop once files are downloaded and mapped to UniProt IDs.\")\n",
    "    group.add_argument('--force-download', action='store_true', default=False,\n",
    "                       help=\"Force re-downloading and parsing of the input files\")\n",
    "    return parser\n"
   ]
  },
  {
   "cell_type": "code",
   "execution_count": null,
   "metadata": {},
   "outputs": [],
   "source": [
    "def main(config_map, **kwargs):\n",
    "    \"\"\"\n",
    "    *config_map*: everything in the config file\n",
    "    *kwargs*: all of the options passed into the script\n",
    "    \"\"\"\n",
    "    dataset_settings = config_map['dataset_settings']\n",
    "\n",
    "    datasets_dir = dataset_settings['datasets_dir']\n",
    "\n",
    "    # Download and parse the ID mapping files \n",
    "    # Download, parse, and map (to uniprot) the network files \n",
    "    setup_dataset_files(datasets_dir, dataset_settings['datasets_to_download'], dataset_settings.get('mappings'), **kwargs)\n",
    "if __name__ == \"__main__\":\n",
    "    config_map, kwargs = parse_args()\n",
    "    main(config_map, **kwargs)"
   ]
  }
 ],
 "metadata": {
  "kernelspec": {
   "display_name": "Python 3",
   "language": "python",
   "name": "python3"
  },
  "language_info": {
   "codemirror_mode": {
    "name": "ipython",
    "version": 3
   },
   "file_extension": ".py",
   "mimetype": "text/x-python",
   "name": "python",
   "nbconvert_exporter": "python",
   "pygments_lexer": "ipython3",
   "version": "3.7.7"
  }
 },
 "nbformat": 4,
 "nbformat_minor": 4
}
