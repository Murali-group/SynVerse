{
 "cells": [
  {
   "cell_type": "code",
   "execution_count": 1,
   "metadata": {},
   "outputs": [],
   "source": [
    "import os\n",
    "import pandas as pd\n",
    "import numpy as np\n",
    "import matplotlib.pyplot as plt\n"
   ]
  },
  {
   "cell_type": "code",
   "execution_count": 2,
   "metadata": {},
   "outputs": [
    {
     "name": "stdout",
     "output_type": "stream",
     "text": [
      "/home/tasnina/Projects/SynVerse/code/Stat\n",
      "/home/tasnina/Projects/SynVerse\n"
     ]
    }
   ],
   "source": [
    "print(os.getcwd())\n",
    "os.chdir('../../')\n",
    "print(os.getcwd())"
   ]
  },
  {
   "cell_type": "code",
   "execution_count": 3,
   "metadata": {},
   "outputs": [],
   "source": [
    "dataset_dir = \"datasets/\"\n",
    "processed_drug_feature_path = dataset_dir + 'processed/drug/'\n",
    "output_dir = \"outputs/\"\n",
    "\n",
    "input_train_dir = \"inputs/train/\"\n",
    "input_drug_dir = \"inputs/drugs/\"\n",
    "\n",
    "single_drug_training_maccskeys_target_feature_file_path = input_train_dir + 'single_drugs_maccskeys_target_features.tsv'\n",
    "single_drug_training_maccskeys_feature_file_path = input_train_dir + 'single_drugs_maccskeys_features.tsv'\n",
    "training_label_synergy_score_file_path =  input_train_dir + 'synergy_labels.tsv'\n",
    "\n",
    "drugcombdb_drug_chem_smiles_maccskeys_info_file =  os.path.join(processed_drug_feature_path + \\\n",
    "                                                                'drug_chem_smiles_maccskeys_info_file.tsv')\n",
    "drugbank_drug_target_mapping_file = os.path.join(processed_drug_feature_path, 'drug_target_map_drugbank.tsv')\n",
    "TTD_drug_target_mapping_file=os.path.join(processed_drug_feature_path,'drug_target_map_TTD.tsv')\n",
    "\n",
    "TTD_drugbank_drug_target_map_file = os.path.join(input_drug_dir,'drug_target_map.tsv')\n",
    "\n",
    "drug_pair_score_file = dataset_dir+ 'drug-comb-db/' + 'drugcombs_scored.csv'\n",
    "\n",
    "drug_pair_response_file = dataset_dir+ 'drug-comb-db/' + 'drugcombs_response.csv'"
   ]
  },
  {
   "cell_type": "markdown",
   "metadata": {},
   "source": [
    "## Investigate into drug-pairs where drug-1 and drug-2 are the same."
   ]
  },
  {
   "cell_type": "code",
   "execution_count": 6,
   "metadata": {},
   "outputs": [
    {
     "name": "stdout",
     "output_type": "stream",
     "text": [
      "Index(['BlockID', 'Row', 'Col', 'DrugRow', 'DrugCol', 'ConcRow', 'ConcCol',\n",
      "       'Response', 'ConcRowUnit', 'ConcColUnit', 'source'],\n",
      "      dtype='object')\n"
     ]
    }
   ],
   "source": [
    "drug_response_df = pd.read_csv(drug_pair_response_file)\n",
    "print(drug_response_df.columns)"
   ]
  },
  {
   "cell_type": "code",
   "execution_count": 28,
   "metadata": {},
   "outputs": [
    {
     "name": "stdout",
     "output_type": "stream",
     "text": [
      "Number of drug pairs where drug-1 and drug-2 are the same\n",
      "230\n",
      "Sources of these drug-pairs\n",
      "['CLOUD' 'nih']\n",
      "(3, 2)\n",
      "                         DrugRow                  DrugCol\n",
      "2426108              CLOFARABINE              CLOFARABINE\n",
      "6103011              Doxorubicin              Doxorubicin\n",
      "6103037  Topotecan hydrochloride  Topotecan hydrochloride\n"
     ]
    }
   ],
   "source": [
    "# print(drug_response_df.head())\n",
    "drug_response_df_2_same_drugs_in_pair = drug_response_df[drug_response_df['DrugRow']==drug_response_df['DrugCol']]\n",
    "\n",
    "print('Number of drug pairs where drug-1 and drug-2 are the same')\n",
    "print(drug_response_df_2_same_drugs_in_pair.shape[0])\n",
    "\n",
    "print('Sources of these drug-pairs')\n",
    "print(drug_response_df_2_same_drugs_in_pair['source'].unique())\n",
    "\n",
    "df_drop_duplicate = (drug_response_df_2_same_drugs_in_pair[['DrugRow', 'DrugCol']].drop_duplicates())\n",
    "print(df_drop_duplicate.shape)\n",
    "print(df_drop_duplicate)"
   ]
  },
  {
   "cell_type": "code",
   "execution_count": 35,
   "metadata": {},
   "outputs": [
    {
     "name": "stdout",
     "output_type": "stream",
     "text": [
      "Index(['ID', 'Drug1', 'Drug2', 'Cell line', 'ZIP', 'Bliss', 'Loewe', 'HSA'], dtype='object')\n",
      "unique drug-pairs: \n",
      " (420762, 3)\n",
      "Number of drug pairs where drug-1 and drug-2 are the same:  382\n",
      "(288, 3)\n",
      "18\n"
     ]
    }
   ],
   "source": [
    "drug_pair_df = pd.read_csv(drug_pair_score_file)\n",
    "print(drug_pair_df.columns)\n",
    "print('unique drug-pairs: \\n', drug_pair_df[[ 'Drug1', 'Drug2', 'Cell line']].drop_duplicates().shape)\n",
    "\n",
    "# print(drug_response_df.head())\n",
    "drug_pair_df_2_same_drugs_in_pair = drug_pair_df[drug_pair_df['Drug1']==drug_pair_df['Drug2']]\n",
    "\n",
    "print('Number of drug pairs where drug-1 and drug-2 are the same: ', drug_pair_df_2_same_drugs_in_pair.shape[0])\n",
    "\n",
    "df_drop_duplicate = (drug_pair_df_2_same_drugs_in_pair[['Drug1', 'Drug2', 'Cell line']].drop_duplicates())\n",
    "print(df_drop_duplicate.shape)\n",
    "df = (df_drop_duplicate.groupby('Cell line').count()['Drug1']).max()\n",
    "print(df)"
   ]
  },
  {
   "cell_type": "code",
   "execution_count": 13,
   "metadata": {},
   "outputs": [],
   "source": [
    "synergy_file = input_train_dir+'/synergy_labels.tsv'\n",
    "synergy_df = pd.read_csv(synergy_file, sep = '\\t', dtype={'Drug1_pubchem_cid':str,\n",
    "            'Drug2_pubchem_cid': str, 'Cell_line': str, 'Loewe': np.float64, 'Bliss': np.float64, 'ZIP': np.float64})"
   ]
  },
  {
   "cell_type": "code",
   "execution_count": 14,
   "metadata": {},
   "outputs": [
    {
     "name": "stdout",
     "output_type": "stream",
     "text": [
      "Drug1_pubchem_cid     1736\n",
      "Drug2_pubchem_cid      485\n",
      "Cell_line              121\n",
      "Loewe                29260\n",
      "Bliss                24609\n",
      "ZIP                  24241\n",
      "dtype: int64\n",
      "1737\n",
      "Drug1_pubchem_cid     266\n",
      "Drug2_pubchem_cid     243\n",
      "Cell_line              39\n",
      "Loewe                1299\n",
      "Bliss                1337\n",
      "ZIP                  1344\n",
      "Loewe_label             1\n",
      "dtype: int64\n",
      "297\n"
     ]
    }
   ],
   "source": [
    "print(synergy_df.nunique())\n",
    "print(len(set(synergy_df['Drug1_pubchem_cid']).union(set(synergy_df['Drug2_pubchem_cid']))))\n",
    "threshold = 30\n",
    "synergy_df['Loewe_label'] = synergy_df['Loewe'].astype(np.float64).apply(lambda x: 0 if x<threshold else 1)\n",
    "synergy_df_filtered = synergy_df[synergy_df['Loewe_label']==1]\n",
    "\n",
    "\n",
    "print(synergy_df_filtered.nunique())\n",
    "print(len(set(synergy_df_filtered['Drug1_pubchem_cid']).union(set(synergy_df_filtered['Drug2_pubchem_cid']))))"
   ]
  },
  {
   "cell_type": "code",
   "execution_count": 15,
   "metadata": {},
   "outputs": [
    {
     "name": "stdout",
     "output_type": "stream",
     "text": [
      "{'KBM-7': 1405, 'HB3': 20, 'DD2': 8, 'MSTO': 2, 'SKMEL30': 1, 'RPMI-8226': 7, 'CAKI-1': 1, 'HCT116': 4, 'MOLT-4': 12, 'TC-71': 1, 'LOX IMVI': 2, 'NCI-H522': 2, 'SR': 6, '3D7': 44, 'RPMI7951': 19, 'HL-60(TB)': 5, 'COLO 205': 4, 'KM12': 3, 'SNB-19': 4, 'ED-40515': 2, 'KB-ChR-8-5-11': 4, 'SF-539': 1, 'U251': 1, 'SW-620': 5, 'HT29': 1, 'MDA-MB-468': 2, 'TC-32': 6, 'A2780': 3, 'JHH-136': 2, 'SU-DIPG-XIII': 1, '786-0': 1, 'CCRF-CEM': 1, 'K-562': 1, 'L-1236': 2, 'A549': 1, 'DU-145': 1, 'NCI-H460': 1, 'SF-295': 1, 'Rh36': 1}\n"
     ]
    }
   ],
   "source": [
    "cell_lines  = synergy_df_filtered['Cell_line'].unique()\n",
    "drug_pairs_per_cell_line = {x:0 for x in cell_lines}\n",
    "\n",
    "# synergy_df = synergy_df.reset_index()\n",
    "\n",
    "\n",
    "for row in synergy_df_filtered.itertuples():\n",
    "        drug_pairs_per_cell_line[row.Cell_line] += 1\n",
    "\n",
    "print(drug_pairs_per_cell_line) "
   ]
  },
  {
   "cell_type": "code",
   "execution_count": 16,
   "metadata": {},
   "outputs": [
    {
     "name": "stdout",
     "output_type": "stream",
     "text": [
      "[1, 1, 1, 1, 1, 1, 1, 1, 1, 1, 1, 1, 1, 1, 1, 2, 2, 2, 2, 2, 2, 2, 3, 3, 4, 4, 4, 4, 5, 5, 6, 6, 7, 8, 12, 19, 20, 44, 1405]\n"
     ]
    },
    {
     "data": {
      "image/png": "[encoded data removed]",
      "text/plain": [
       "<Figure size 432x288 with 1 Axes>"
      ]
     },
     "metadata": {
      "needs_background": "light"
     },
     "output_type": "display_data"
    }
   ],
   "source": [
    "#plot_hist\n",
    "number_of_drug_pairs_list = list((drug_pairs_per_cell_line.values()))\n",
    "number_of_drug_pairs_list.sort()\n",
    "print(number_of_drug_pairs_list)\n",
    "\n",
    "bins_seq = list(np.arange(0,3000,100))\n",
    "# bins_seq = bins_seq+[20000,30000,40000,50000]\n",
    "\n",
    "# print(bins_seq)\n",
    "\n",
    "fig, ax = plt.subplots()\n",
    "ax.hist(drug_pairs_per_cell_line.values(),bins=bins_seq,alpha=0.5,label='#total drug pairs')\n",
    "# y_label = 'number of cell lines (' + str(len(number_of_drug_pairs_list)) + ')'\n",
    "y_label = 'number of cell lines'\n",
    "x_label = 'number of drug pairs'\n",
    "\n",
    "ax.set_ylabel(y_label)\n",
    "ax.set_xlabel(x_label)\n",
    "# ax.legend()\n",
    "\n",
    "# plt.title('#drug combinations per cell line for which all feature values are available')\n",
    "file_name = output_dir+'/Viz/'+ 'drug_pairs_per_cell_line.pdf'\n",
    "os.makedirs(os.path.dirname(file_name), exist_ok=True)\n",
    "plt.savefig(file_name, format= 'pdf', bbox_inches = 'tight' )\n",
    "plt.show()\n"
   ]
  },
  {
   "cell_type": "code",
   "execution_count": null,
   "metadata": {},
   "outputs": [],
   "source": []
  }
 ],
 "metadata": {
  "kernelspec": {
   "display_name": "Python 3",
   "language": "python",
   "name": "python3"
  },
  "language_info": {
   "codemirror_mode": {
    "name": "ipython",
    "version": 3
   },
   "file_extension": ".py",
   "mimetype": "text/x-python",
   "name": "python",
   "nbconvert_exporter": "python",
   "pygments_lexer": "ipython3",
   "version": "3.7.10"
  }
 },
 "nbformat": 4,
 "nbformat_minor": 5
}
