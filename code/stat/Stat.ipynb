{
 "cells": [
  {
   "cell_type": "code",
   "execution_count": 1,
   "metadata": {},
   "outputs": [],
   "source": [
    "import os\n",
    "import pandas as pd\n",
    "import numpy as np\n",
    "import matplotlib.pyplot as plt\n"
   ]
  },
  {
   "cell_type": "code",
   "execution_count": 2,
   "metadata": {},
   "outputs": [
    {
     "name": "stdout",
     "output_type": "stream",
     "text": [
      "/home/tasnina/Projects/SynVerse/code/Stat\n",
      "/home/tasnina/Projects/SynVerse\n"
     ]
    }
   ],
   "source": [
    "print(os.getcwd())\n",
    "os.chdir('../../')\n",
    "print(os.getcwd())"
   ]
  },
  {
   "cell_type": "code",
   "execution_count": 3,
   "metadata": {},
   "outputs": [],
   "source": [
    "dataset_dir = \"datasets/\"\n",
    "processed_drug_feature_path = dataset_dir + 'processed/drug/'\n",
    "output_dir = \"outputs/\"\n",
    "\n",
    "input_train_dir = \"inputs/train/\"\n",
    "input_drug_dir = \"inputs/drugs/\"\n",
    "\n",
    "single_drug_training_maccskeys_target_feature_file_path = input_train_dir + 'single_drugs_maccskeys_target_features.tsv'\n",
    "single_drug_training_maccskeys_feature_file_path = input_train_dir + 'single_drugs_maccskeys_features.tsv'\n",
    "training_label_synergy_score_file_path =  input_train_dir + 'synergy_labels.tsv'\n",
    "\n",
    "drugcombdb_drug_chem_smiles_maccskeys_info_file =  os.path.join(processed_drug_feature_path + \\\n",
    "                                                                'drug_chem_smiles_maccskeys_info_file.tsv')\n",
    "drugbank_drug_target_mapping_file = os.path.join(processed_drug_feature_path, 'drug_target_map_drugbank.tsv')\n",
    "TTD_drug_target_mapping_file=os.path.join(processed_drug_feature_path,'drug_target_map_TTD.tsv')\n",
    "\n",
    "TTD_drugbank_drug_target_map_file = os.path.join(input_drug_dir,'drug_target_map.tsv')\n",
    "\n",
    "drug_pair_score_file = dataset_dir+ 'drug-comb-db/' + 'drugcombs_scored.csv'\n",
    "\n",
    "drug_pair_response_file = dataset_dir+ 'drug-comb-db/' + 'drugcombs_response.csv'"
   ]
  },
  {
   "cell_type": "markdown",
   "metadata": {},
   "source": [
    "## Investigate into drug-pairs where drug-1 and drug-2 are the same."
   ]
  },
  {
   "cell_type": "code",
   "execution_count": 6,
   "metadata": {},
   "outputs": [
    {
     "name": "stdout",
     "output_type": "stream",
     "text": [
      "Index(['BlockID', 'Row', 'Col', 'DrugRow', 'DrugCol', 'ConcRow', 'ConcCol',\n",
      "       'Response', 'ConcRowUnit', 'ConcColUnit', 'source'],\n",
      "      dtype='object')\n"
     ]
    }
   ],
   "source": [
    "drug_response_df = pd.read_csv(drug_pair_response_file)\n",
    "print(drug_response_df.columns)"
   ]
  },
  {
   "cell_type": "code",
   "execution_count": 28,
   "metadata": {},
   "outputs": [
    {
     "name": "stdout",
     "output_type": "stream",
     "text": [
      "Number of drug pairs where drug-1 and drug-2 are the same\n",
      "230\n",
      "Sources of these drug-pairs\n",
      "['CLOUD' 'nih']\n",
      "(3, 2)\n",
      "                         DrugRow                  DrugCol\n",
      "2426108              CLOFARABINE              CLOFARABINE\n",
      "6103011              Doxorubicin              Doxorubicin\n",
      "6103037  Topotecan hydrochloride  Topotecan hydrochloride\n"
     ]
    }
   ],
   "source": [
    "# print(drug_response_df.head())\n",
    "drug_response_df_2_same_drugs_in_pair = drug_response_df[drug_response_df['DrugRow']==drug_response_df['DrugCol']]\n",
    "\n",
    "print('Number of drug pairs where drug-1 and drug-2 are the same')\n",
    "print(drug_response_df_2_same_drugs_in_pair.shape[0])\n",
    "\n",
    "print('Sources of these drug-pairs')\n",
    "print(drug_response_df_2_same_drugs_in_pair['source'].unique())\n",
    "\n",
    "df_drop_duplicate = (drug_response_df_2_same_drugs_in_pair[['DrugRow', 'DrugCol']].drop_duplicates())\n",
    "print(df_drop_duplicate.shape)\n",
    "print(df_drop_duplicate)"
   ]
  },
  {
   "cell_type": "code",
   "execution_count": 35,
   "metadata": {},
   "outputs": [
    {
     "name": "stdout",
     "output_type": "stream",
     "text": [
      "Index(['ID', 'Drug1', 'Drug2', 'Cell line', 'ZIP', 'Bliss', 'Loewe', 'HSA'], dtype='object')\n",
      "unique drug-pairs: \n",
      " (420762, 3)\n",
      "Number of drug pairs where drug-1 and drug-2 are the same:  382\n",
      "(288, 3)\n",
      "18\n"
     ]
    }
   ],
   "source": [
    "drug_pair_df = pd.read_csv(drug_pair_score_file)\n",
    "print(drug_pair_df.columns)\n",
    "print('unique drug-pairs: \\n', drug_pair_df[[ 'Drug1', 'Drug2', 'Cell line']].drop_duplicates().shape)\n",
    "\n",
    "# print(drug_response_df.head())\n",
    "drug_pair_df_2_same_drugs_in_pair = drug_pair_df[drug_pair_df['Drug1']==drug_pair_df['Drug2']]\n",
    "\n",
    "print('Number of drug pairs where drug-1 and drug-2 are the same: ', drug_pair_df_2_same_drugs_in_pair.shape[0])\n",
    "\n",
    "df_drop_duplicate = (drug_pair_df_2_same_drugs_in_pair[['Drug1', 'Drug2', 'Cell line']].drop_duplicates())\n",
    "print(df_drop_duplicate.shape)\n",
    "df = (df_drop_duplicate.groupby('Cell line').count()['Drug1']).max()\n",
    "print(df)"
   ]
  },
  {
   "cell_type": "code",
   "execution_count": 18,
   "metadata": {},
   "outputs": [],
   "source": [
    "synergy_file = input_train_dir+'/synergy_labels.tsv'\n",
    "synergy_df = pd.read_csv(synergy_file, sep = '\\t', dtype={'Drug1_pubchem_cid':str,\n",
    "            'Drug2_pubchem_cid': str, 'Cell_line': str, 'Loewe': np.float64, 'Bliss': np.float64, 'ZIP': np.float64})"
   ]
  },
  {
   "cell_type": "code",
   "execution_count": 22,
   "metadata": {},
   "outputs": [
    {
     "name": "stdout",
     "output_type": "stream",
     "text": [
      "Drug1_pubchem_cid     1736\n",
      "Drug2_pubchem_cid      485\n",
      "Cell_line              121\n",
      "Loewe                29260\n",
      "Bliss                24609\n",
      "ZIP                  24241\n",
      "Loewe_label              2\n",
      "dtype: int64\n",
      "1737\n",
      "Drug1_pubchem_cid      859\n",
      "Drug2_pubchem_cid      468\n",
      "Cell_line              121\n",
      "Loewe                 9997\n",
      "Bliss                11501\n",
      "ZIP                  11565\n",
      "Loewe_label              1\n",
      "dtype: int64\n",
      "871\n"
     ]
    }
   ],
   "source": [
    "print(synergy_df.nunique())\n",
    "print(len(set(synergy_df['Drug1_pubchem_cid']).union(set(synergy_df['Drug2_pubchem_cid']))))\n",
    "threshold = 0\n",
    "synergy_df['Loewe_label'] = synergy_df['Loewe'].astype(np.float64).apply(lambda x: 0 if x<threshold else 1)\n",
    "synergy_df_filtered = synergy_df[synergy_df['Loewe_label']==1]\n",
    "\n",
    "\n",
    "print(synergy_df_filtered.nunique())\n",
    "print(len(set(synergy_df_filtered['Drug1_pubchem_cid']).union(set(synergy_df_filtered['Drug2_pubchem_cid']))))"
   ]
  },
  {
   "cell_type": "code",
   "execution_count": 23,
   "metadata": {},
   "outputs": [
    {
     "name": "stdout",
     "output_type": "stream",
     "text": [
      "{'DIPG25': 679, 'ED-40515': 96, 'KBM-7': 11904, 'TMD8': 151, 'HDLM-2': 23, 'L-1236': 237, 'U-HO1': 184, 'Huh-7': 10, 'Mak': 10, 'TC-71': 313, 'ACHN': 558, 'SN12C': 628, 'BT-549': 644, 'CAKI-1': 612, 'EKVX': 690, 'HCT-15': 556, 'HT29': 739, 'LOX IMVI': 623, 'MALME-3M': 605, 'OVCAR3': 609, 'SR': 536, 'SW-620': 581, 'T-47D': 937, 'KM12': 569, 'MDA-MB-435': 469, 'PC-3': 658, 'SF-539': 573, 'HCC-2998': 449, 'HCT116': 615, 'HOP-62': 548, 'NCI-H522': 565, 'OVCAR-4': 532, 'TK-10': 564, 'UO-31': 670, 'A498': 562, 'A549': 575, 'COLO 205': 564, 'DU-145': 605, 'HL-60(TB)': 605, 'HS 578T': 605, 'IGROV1': 678, 'K-562': 618, 'MCF7': 672, 'MDA-MB-231': 571, 'MDA-MB-468': 640, 'MOLT-4': 665, 'NCI-H226': 615, 'NCI-H322M': 596, 'NCIH23': 656, 'OVCAR-5': 498, 'OVCAR-8': 629, 'RXF 393': 640, 'SK-MEL-28': 596, 'SK-MEL-5': 430, 'SK-OV-3': 753, 'SNB-19': 532, 'SNB-75': 534, 'U251': 562, 'UACC62': 729, 'HOP-92': 555, 'SF-268': 580, 'SK-MEL-2': 419, 'UACC-257': 555, 'CCRF-CEM': 481, 'NCI-H460': 761, 'M14': 452, '786-0': 654, 'NCI\\\\\\\\/ADR-RES': 522, 'RPMI-8226': 547, 'SF-295': 588, 'A2058': 190, 'A375': 165, 'COLO320DM': 207, 'HT144': 150, 'KPL1': 181, 'MDAMB436': 165, 'MSTO': 207, 'NCIH2122': 178, 'PA1': 172, 'UWB1289': 159, 'UWB1289+BRCA1': 184, 'VCAP': 166, 'ZR751': 164, 'A2780': 251, 'CAOV3': 195, 'DLD1': 177, 'ES2': 154, 'NCIH1650': 164, 'NCIH520': 167, 'OV90': 150, 'RKO': 161, 'SKMEL30': 139, 'SKMES1': 161, 'HB3': 270, 'DD2': 340, 'SU-DIPG-XIII': 347, 'TC-32': 211, '3D7': 284, 'EW-8': 4, 'Rh36': 69, 'JHH-136': 74, 'KB-ChR-8-5-11': 18, 'EFM192B': 144, 'OCUBM': 186, 'RPMI7951': 201, 'A427': 173, 'LNCAP': 114, 'LOVO': 181, 'SW837': 170, 'JHH-520': 10, 'CTR': 62, 'RD': 68, 'SMS-CTR': 46, 'L-428': 10, 'PANC-1': 2, 'A-375': 4, 'COLO 858': 4, 'MZ7-mel': 4, 'WM-115': 4, 'MMAC-SF': 2, 'KB-3-1': 1}\n"
     ]
    }
   ],
   "source": [
    "cell_lines  = synergy_df_filtered['Cell_line'].unique()\n",
    "drug_pairs_per_cell_line = {x:0 for x in cell_lines}\n",
    "\n",
    "# synergy_df = synergy_df.reset_index()\n",
    "\n",
    "\n",
    "for row in synergy_df_filtered.itertuples():\n",
    "        drug_pairs_per_cell_line[row.Cell_line] += 1\n",
    "\n",
    "print(drug_pairs_per_cell_line) "
   ]
  },
  {
   "cell_type": "code",
   "execution_count": 24,
   "metadata": {},
   "outputs": [
    {
     "name": "stdout",
     "output_type": "stream",
     "text": [
      "[1, 2, 2, 4, 4, 4, 4, 4, 10, 10, 10, 10, 18, 23, 46, 62, 68, 69, 74, 96, 114, 139, 144, 150, 150, 151, 154, 159, 161, 161, 164, 164, 165, 165, 166, 167, 170, 172, 173, 177, 178, 181, 181, 184, 184, 186, 190, 195, 201, 207, 207, 211, 237, 251, 270, 284, 313, 340, 347, 419, 430, 449, 452, 469, 481, 498, 522, 532, 532, 534, 536, 547, 548, 555, 555, 556, 558, 562, 562, 564, 564, 565, 569, 571, 573, 575, 580, 581, 588, 596, 596, 605, 605, 605, 605, 609, 612, 615, 615, 618, 623, 628, 629, 640, 640, 644, 654, 656, 658, 665, 670, 672, 678, 679, 690, 729, 739, 753, 761, 937, 11904]\n"
     ]
    },
    {
     "data": {
      "image/png": "[encoded data removed]",
      "text/plain": [
       "<Figure size 432x288 with 1 Axes>"
      ]
     },
     "metadata": {
      "needs_background": "light"
     },
     "output_type": "display_data"
    }
   ],
   "source": [
    "#plot_hist\n",
    "number_of_drug_pairs_list = list((drug_pairs_per_cell_line.values()))\n",
    "number_of_drug_pairs_list.sort()\n",
    "print(number_of_drug_pairs_list)\n",
    "\n",
    "bins_seq = list(np.arange(0,3000,100))\n",
    "# bins_seq = bins_seq+[20000,30000,40000,50000]\n",
    "\n",
    "# print(bins_seq)\n",
    "\n",
    "fig, ax = plt.subplots()\n",
    "ax.hist(drug_pairs_per_cell_line.values(),bins=bins_seq,alpha=0.5,label='#total drug pairs')\n",
    "# y_label = 'number of cell lines (' + str(len(number_of_drug_pairs_list)) + ')'\n",
    "y_label = 'number of cell lines'\n",
    "x_label = 'number of drug pairs'\n",
    "\n",
    "ax.set_ylabel(y_label)\n",
    "ax.set_xlabel(x_label)\n",
    "# ax.legend()\n",
    "\n",
    "# plt.title('#drug combinations per cell line for which all feature values are available')\n",
    "file_name = output_dir+'/Viz/'+ 'drug_pairs_per_cell_line.pdf'\n",
    "os.makedirs(os.path.dirname(file_name), exist_ok=True)\n",
    "plt.savefig(file_name, format= 'pdf', bbox_inches = 'tight' )\n",
    "plt.show()\n"
   ]
  },
  {
   "cell_type": "code",
   "execution_count": null,
   "metadata": {},
   "outputs": [],
   "source": []
  },
  {
   "cell_type": "code",
   "execution_count": null,
   "metadata": {},
   "outputs": [],
   "source": []
  }
 ],
 "metadata": {
  "kernelspec": {
   "display_name": "Python 3",
   "language": "python",
   "name": "python3"
  },
  "language_info": {
   "codemirror_mode": {
    "name": "ipython",
    "version": 3
   },
   "file_extension": ".py",
   "mimetype": "text/x-python",
   "name": "python",
   "nbconvert_exporter": "python",
   "pygments_lexer": "ipython3",
   "version": "3.7.10"
  }
 },
 "nbformat": 4,
 "nbformat_minor": 5
}
