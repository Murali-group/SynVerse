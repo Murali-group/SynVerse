{
 "cells": [
  {
   "cell_type": "code",
   "execution_count": 1,
   "metadata": {},
   "outputs": [],
   "source": [
    "import os\n",
    "import pandas as pd\n",
    "import numpy as np\n",
    "\n",
    "from sklearn.svm import SVC\n",
    "from sklearn.model_selection import train_test_split\n",
    "from sklearn.model_selection import cross_validate\n",
    "from sklearn.metrics import accuracy_score\n",
    "from sklearn.metrics import precision_score\n",
    "from sklearn.metrics import recall_score\n",
    "from sklearn.metrics import f1_score\n",
    "\n",
    "import matplotlib.pyplot as plt\n",
    "from matplotlib import cm"
   ]
  },
  {
   "cell_type": "code",
   "execution_count": 2,
   "metadata": {},
   "outputs": [
    {
     "name": "stdout",
     "output_type": "stream",
     "text": [
      "/media/tassnina/Study/VT/Research/Projects/drug-synergy-prediction/src/ML Models\n",
      "/media/tassnina/Study/VT/Research/Projects/drug-synergy-prediction\n"
     ]
    }
   ],
   "source": [
    "print(os.getcwd())\n",
    "os.chdir('../../')\n",
    "print(os.getcwd())"
   ]
  },
  {
   "cell_type": "code",
   "execution_count": 3,
   "metadata": {},
   "outputs": [],
   "source": [
    "base_input_dir = \"inputs/train/\"\n",
    "base_output_dir = \"outputs/\"\n",
    "\n",
    "base_test_score_path = \"outputs/test_scores/\""
   ]
  },
  {
   "cell_type": "code",
   "execution_count": 4,
   "metadata": {},
   "outputs": [],
   "source": [
    "# feature_types = ['only_MACCS', 'MACCS_Target']\n",
    "# model = 'SVR'"
   ]
  },
  {
   "cell_type": "code",
   "execution_count": 5,
   "metadata": {},
   "outputs": [],
   "source": [
    "SVR_test_score_only_MACCS_file = base_test_score_path + '/' + 'SVR' + '_'+ 'only_MACCS'+'_test_score.tsv'\n",
    "SVR_test_score_MACCS_target_file =  base_test_score_path + '/' + 'SVR' + '_'+ 'MACCS_Target'+'_test_score.tsv'\n",
    "\n",
    "GBR_test_score_only_MACCS_file =  base_test_score_path + '/' + 'GBR' + '_'+ 'only_MACCS'+'_test_score.tsv'\n",
    "GBR_test_score_MACCS_target_file = base_test_score_path + '/' + 'GBR' + '_'+ 'MACCS_Target'+'_test_score.tsv'\n",
    "\n",
    "SVM_test_score_only_MACCS_file =  base_test_score_path + '/' + 'SVM' + '_'+ 'only_MACCS'+'_test_score.tsv'"
   ]
  },
  {
   "cell_type": "code",
   "execution_count": null,
   "metadata": {},
   "outputs": [],
   "source": [
    "SVR_only_MACCS_test_score_df = pd.read_csv(SVR_test_score_only_MACCS_file, sep = '\\t', index_col = 0).\\\n",
    "                                rename(columns = {'pearsons': 'Pearsons Correlation', 'r2': 'R-Square'})\n",
    "SVR_MACCS_target_test_score_df = pd.read_csv(SVR_test_score_MACCS_target_file, sep = '\\t',  index_col = 0).\\\n",
    "                                rename(columns = {'pearsons': 'Pearsons Correlation', 'r2': 'R-Square'})\n",
    "GBR_only_MACCS_test_score_df = pd.read_csv(GBR_test_score_only_MACCS_file, sep = '\\t',  index_col = 0).\\\n",
    "                                rename(columns = {'pearsons': 'Pearsons Correlation', 'r2': 'R-Square'})\n",
    "GBR_MACCS_target_test_score_df = pd.read_csv(GBR_test_score_MACCS_target_file, sep = '\\t',  index_col = 0).\\\n",
    "                                rename(columns = {'pearsons': 'Pearsons Correlation', 'r2': 'R-Square'})"
   ]
  },
  {
   "cell_type": "code",
   "execution_count": null,
   "metadata": {},
   "outputs": [],
   "source": [
    "print(SVR_only_MACCS_test_score_df)\n",
    "print(SVR_MACCS_target_test_score_df)\n",
    "print(GBR_only_MACCS_test_score_df)\n",
    "print(GBR_MACCS_target_test_score_df)"
   ]
  },
  {
   "cell_type": "code",
   "execution_count": null,
   "metadata": {},
   "outputs": [],
   "source": [
    "def plot_grouped_test_score(df1, df2, metric,label_list, file_name, colors):\n",
    "    \n",
    "    df2 = df2.reindex(df1.index)\n",
    "    # set width of bar\n",
    "    barWidth = 0.25\n",
    "\n",
    "    # set height of bar\n",
    "    bars1 = df1[metric].to_numpy()\n",
    "    bars2 = df2[metric].to_numpy()\n",
    "\n",
    "    # Set position of bar on X axis\n",
    "    r1 = np.arange(len(bars1))\n",
    "    r2 = [x + barWidth for x in r1]\n",
    "\n",
    "    # Make the plot\n",
    "    plt.bar(r1, bars1, color=colors[0], width=barWidth, edgecolor='white', label=label_list[0])\n",
    "    plt.bar(r2, bars2, color=colors[1], width=barWidth, edgecolor='white', label=label_list[1])\n",
    "\n",
    "    # Add xticks on the middle of the group bars\n",
    "    plt.xlabel('cell lines')\n",
    "    plt.ylabel(metric)\n",
    "    \n",
    "    cell_lines = list(df1.index)\n",
    "    plt.xticks([r + barWidth for r in range(len(bars1))], cell_lines , rotation='vertical' )\n",
    "\n",
    "    # Create legend & Show graphic\n",
    "    plt.legend()\n",
    "    plt.savefig(file_name, bbox_inches =\"tight\", format = 'pdf')\n",
    "    \n",
    "    plt.show()\n",
    "    plt.close()"
   ]
  },
  {
   "cell_type": "code",
   "execution_count": null,
   "metadata": {},
   "outputs": [],
   "source": [
    "metrics = ['mse','R-Square','Pearsons Correlation']\n",
    "score_df_list_per_feature_types_dict = {'only_MACCS':[], 'MACCS_Target':[]}\n",
    "colors = {'only_MACCS': ['seagreen','chocolate'], 'MACCS_Target':['steelblue','rosybrown']}\n",
    "## maintain the order in model order to keep score dfs in score_df_list_per_feature_types_dict. \\\n",
    "## e.g. SVR first, GBR second\n",
    "model_order = ['SVR','GBR']\n",
    "score_df_list_per_feature_types_dict['only_MACCS'] = \\\n",
    "                                [SVR_only_MACCS_test_score_df, GBR_only_MACCS_test_score_df]\n",
    "score_df_list_per_feature_types_dict['MACCS_Target'] = \\\n",
    "                                [SVR_MACCS_target_test_score_df, GBR_MACCS_target_test_score_df]\n",
    "for feature_combo in score_df_list_per_feature_types_dict:\n",
    "    for metric in metrics:\n",
    "        \n",
    "        plot_file_name = base_test_score_path + 'Viz/' + feature_combo+'_'+metric+ '_SVR_GBR.pdf'\n",
    "        os.makedirs(os.path.dirname(plot_file_name), exist_ok=True)\n",
    "        \n",
    "        df1 = score_df_list_per_feature_types_dict[feature_combo][0][:10]\n",
    "        df2 = score_df_list_per_feature_types_dict[feature_combo][1][:10]\n",
    "        plot_grouped_test_score(df1, df2, \\\n",
    "                                metric, model_order, plot_file_name,colors[feature_combo])"
   ]
  },
  {
   "cell_type": "code",
   "execution_count": null,
   "metadata": {},
   "outputs": [],
   "source": [
    "def plot_grouped_test_score_2(df_list, metric,label_list, file_name):\n",
    "#     colors = iter(cm.tab20(np.linspace(0, 1, 10)))\n",
    "    colors = ['seagreen','chocolate', 'steelblue','rosybrown']\n",
    "    barWidth = 0.2\n",
    "    count=0\n",
    "    for df in df_list:\n",
    "        df = df.reindex(df_list[0].index)\n",
    "        \n",
    "        # set height of bar\n",
    "        bar_height = df[metric].to_numpy()\n",
    "\n",
    "\n",
    "        # Set position of bar on X axis\n",
    "        r = np.arange(len(bar_height))\n",
    "        r1 = [x + barWidth*count for x in r]\n",
    "\n",
    "        # Make the plot\n",
    "#         plt.bar(r1, bar_height, color=next(colors), width=barWidth, edgecolor='white', label=label_list[count])\n",
    "        plt.bar(r1, bar_height, color=colors[count], width=barWidth, edgecolor='white', label=label_list[count])\n",
    "        count+=1\n",
    "\n",
    "    # Add xticks on the middle of the group bars\n",
    "    plt.xlabel('cell lines')\n",
    "    plt.ylabel(metric)\n",
    "    \n",
    "    cell_lines = list(df.index)\n",
    "    plt.xticks([r + barWidth for r in range(len(bar_height))], cell_lines , rotation='vertical' )\n",
    "\n",
    "    # Create legend & Show graphic\n",
    "    plt.legend()\n",
    "    plt.savefig(file_name, bbox_inches =\"tight\", format = 'pdf')\n",
    "    \n",
    "    plt.show()\n",
    "    plt.close()"
   ]
  },
  {
   "cell_type": "code",
   "execution_count": null,
   "metadata": {},
   "outputs": [],
   "source": [
    "metrics = ['mse','R-Square','Pearsons Correlation']\n",
    "score_df_list_per_feature_types_dict = {'only_MACCS':[], 'MACCS_Target':[]}\n",
    "\n",
    "## maintain the order in model order to keep score dfs in score_df_list_per_feature_types_dict. \\\n",
    "## e.g. SVR first, GBR second\n",
    "model_order = ['SVR-MACCS','GBR-MACCS','SVR-MACCS-target','GBR-MACCS-target']\n",
    "score_df_list_per_feature_types_dict['only_MACCS'] = \\\n",
    "                                [SVR_only_MACCS_test_score_df, GBR_only_MACCS_test_score_df]\n",
    "score_df_list_per_feature_types_dict['MACCS_Target'] = \\\n",
    "                                [SVR_MACCS_target_test_score_df, GBR_MACCS_target_test_score_df]\n",
    "\n",
    "\n",
    "for metric in metrics:\n",
    "    df_list = []\n",
    "    for feature_combo in score_df_list_per_feature_types_dict:\n",
    "        plot_file_name = base_test_score_path + 'Viz/' + feature_combo[0]+'_'+feature_combo[1] +'_'+metric+ '_SVR_GBR.pdf'\n",
    "        os.makedirs(os.path.dirname(plot_file_name), exist_ok=True)\n",
    "        \n",
    "        df_list.append(score_df_list_per_feature_types_dict[feature_combo][0][:10])\n",
    "        df_list.append(score_df_list_per_feature_types_dict[feature_combo][1][:10])\n",
    "    plot_grouped_test_score_2(df_list, metric, model_order, plot_file_name)"
   ]
  },
  {
   "cell_type": "code",
   "execution_count": null,
   "metadata": {},
   "outputs": [],
   "source": [
    "def plot_cross_validation_metrics_SVR(kernel_specific_cross_val_score_df_dict, metric,cell_line,plot_file_name):\n",
    "    colors = iter(cm.tab20(np.linspace(0, 1, 10)))\n",
    "                                         \n",
    "    for kernel in kernel_specific_cross_val_score_df_dict:\n",
    "                                         \n",
    "        plt.plot( 'C', metric, data=kernel_specific_cross_val_score_df_dict[kernel], marker='',\\\n",
    "                 markerfacecolor='blue', markersize=8, color=next(colors), linewidth=2, label = kernel)\n",
    "    plt.xlabel('C')\n",
    "    plt.ylabel(metric)\n",
    "    plt.title(cell_line)\n",
    "    plt.legend()\n",
    "    plt.savefig(plot_file_name, bbox_inches =\"tight\", format = 'pdf')\n",
    "    plt.show()\n",
    "    plt.close()"
   ]
  },
  {
   "cell_type": "code",
   "execution_count": null,
   "metadata": {
    "scrolled": true
   },
   "outputs": [],
   "source": [
    "#Plot cross validation for one cell line for SVR model\n",
    "cell_line = 'U251'\n",
    "feature_types = ['only_MACCS', 'MACCS_Target']\n",
    "model = 'SVR'\n",
    "kernel_list = ['linear','poly','rbf']\n",
    "kernel_based_score_df_dict = {kernel : pd.DataFrame() for kernel in kernel_list}\n",
    "for feature_combo in feature_types:\n",
    "    for kernel in kernel_list:\n",
    "        file_name = base_output_dir + '/' + feature_combo + '/' + model +'/' +\\\n",
    "                    cell_line + '/' +  kernel + '_r2_mse_pearsons_score.tsv'\n",
    "        #read file such that dataframe index will be th C values of SVR model\n",
    "        kernel_based_score_df_dict[kernel] = pd.read_csv(file_name, sep='\\t').rename(columns={'Unnamed: 0':'C'})\n",
    "        #print(kernel_based_score_df_dict[kernel].head())\n",
    "        \n",
    "    plot_file_name = base_output_dir + '/' + feature_combo + '/' + model +'/' +\\\n",
    "                    cell_line + '/' + 'linear_poly_rbf_mse_plot.pdf'\n",
    "    plot_cross_validation_metrics_SVR(kernel_based_score_df_dict, 'mse', cell_line, plot_file_name)\n",
    "        "
   ]
  },
  {
   "cell_type": "code",
   "execution_count": 14,
   "metadata": {},
   "outputs": [
    {
     "name": "stdout",
     "output_type": "stream",
     "text": [
      "             c kernel  max_5_fold_accuracy  accuracy  precision    recall  \\\n",
      "HCC-2998    21   poly             0.815548  0.831933   0.750355  0.521852   \n",
      "MDA-MB-435  51   poly             0.805592  0.835391   0.417695  0.500000   \n",
      "DIPG25      31    rbf             0.729551  0.745763   0.661998  0.594458   \n",
      "COLO 205    61   poly             0.774198  0.820408   0.785788  0.530096   \n",
      "HCT-15      16    rbf             0.784072  0.745968   0.566667  0.511221   \n",
      "\n",
      "                  f1  \n",
      "HCC-2998    0.499158  \n",
      "MDA-MB-435  0.455157  \n",
      "DIPG25      0.601486  \n",
      "COLO 205    0.510000  \n",
      "HCT-15      0.469708  \n"
     ]
    }
   ],
   "source": [
    "##plot SVM accuracy\n",
    "SVM_only_MACCS_df = pd.read_csv(SVM_test_score_only_MACCS_file, sep='\\t', index_col=0)\n",
    "print(SVM_only_MACCS_df.head())\n",
    "\n",
    "SVM_only_MACCS_df = SVM_only_MACCS_df[:20]\n"
   ]
  },
  {
   "cell_type": "code",
   "execution_count": 15,
   "metadata": {},
   "outputs": [
    {
     "data": {
      "image/png": "[encoded data removed]",
      "text/plain": [
       "<Figure size 432x288 with 1 Axes>"
      ]
     },
     "metadata": {
      "needs_background": "light"
     },
     "output_type": "display_data"
    },
    {
     "data": {
      "image/png": "[encoded data removed]",
      "text/plain": [
       "<Figure size 432x288 with 1 Axes>"
      ]
     },
     "metadata": {
      "needs_background": "light"
     },
     "output_type": "display_data"
    }
   ],
   "source": [
    "barWidth = 0.3\n",
    "\n",
    "bar_height = SVM_only_MACCS_df[\"accuracy\"].to_numpy()\n",
    "\n",
    "\n",
    "# Set position of bar on X axis\n",
    "r = np.arange(len(bar_height))\n",
    "r1 = [x + barWidth for x in r]\n",
    "\n",
    "# Make the plot\n",
    "plt.bar(r1, bar_height, color=\"darkgreen\", width=barWidth, edgecolor='white')\n",
    "\n",
    "# Add xticks on the middle of the group bars\n",
    "plt.xlabel('cell lines')\n",
    "plt.ylabel('Accuracy')\n",
    "\n",
    "cell_lines = list(SVM_only_MACCS_df.index)\n",
    "plt.xticks([r + barWidth for r in range(len(bar_height))], cell_lines , rotation='vertical' )\n",
    "\n",
    "plot_file_name = base_test_score_path + 'Viz/' + 'only_MACCS' +'_'+'accuracy'+ '_SVM.pdf'\n",
    "plt.savefig(plot_file_name, bbox_inches =\"tight\", format = 'pdf')\n",
    "plt.show()\n",
    "plt.close()\n",
    "\n",
    "\n"
   ]
  },
  {
   "cell_type": "code",
   "execution_count": null,
   "metadata": {},
   "outputs": [],
   "source": []
  }
 ],
 "metadata": {
  "kernelspec": {
   "display_name": "Python 3",
   "language": "python",
   "name": "python3"
  },
  "language_info": {
   "codemirror_mode": {
    "name": "ipython",
    "version": 3
   },
   "file_extension": ".py",
   "mimetype": "text/x-python",
   "name": "python",
   "nbconvert_exporter": "python",
   "pygments_lexer": "ipython3",
   "version": "3.8.2"
  }
 },
 "nbformat": 4,
 "nbformat_minor": 4
}
